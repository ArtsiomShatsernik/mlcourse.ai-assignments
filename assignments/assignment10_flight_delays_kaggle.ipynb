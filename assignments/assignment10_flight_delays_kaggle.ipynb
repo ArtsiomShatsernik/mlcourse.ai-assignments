{
 "cells": [
  {
   "cell_type": "code",
   "execution_count": 1,
   "metadata": {},
   "outputs": [],
   "source": [
    "import numpy as np\n",
    "import pandas as pd\n",
    "from sklearn.linear_model import LogisticRegression\n",
    "from sklearn.metrics import roc_auc_score\n",
    "from sklearn.model_selection import train_test_split\n",
    "from sklearn.preprocessing import StandardScaler\n",
    "from xgboost import XGBClassifier"
   ]
  },
  {
   "cell_type": "code",
   "execution_count": 2,
   "metadata": {},
   "outputs": [],
   "source": [
    "train = pd.read_csv(\"../../data/flight_delays_train.csv\")\n",
    "test = pd.read_csv(\"../../data/flight_delays_test.csv\")"
   ]
  },
  {
   "cell_type": "code",
   "execution_count": 3,
   "metadata": {},
   "outputs": [
    {
     "data": {
      "text/plain": "  Month DayofMonth DayOfWeek  DepTime UniqueCarrier Origin Dest  Distance  \\\n0   c-8       c-21       c-7     1934            AA    ATL  DFW       732   \n1   c-4       c-20       c-3     1548            US    PIT  MCO       834   \n2   c-9        c-2       c-5     1422            XE    RDU  CLE       416   \n3  c-11       c-25       c-6     1015            OO    DEN  MEM       872   \n4  c-10        c-7       c-6     1828            WN    MDW  OMA       423   \n\n  dep_delayed_15min  \n0                 N  \n1                 N  \n2                 N  \n3                 N  \n4                 Y  ",
      "text/html": "<div>\n<style scoped>\n    .dataframe tbody tr th:only-of-type {\n        vertical-align: middle;\n    }\n\n    .dataframe tbody tr th {\n        vertical-align: top;\n    }\n\n    .dataframe thead th {\n        text-align: right;\n    }\n</style>\n<table border=\"1\" class=\"dataframe\">\n  <thead>\n    <tr style=\"text-align: right;\">\n      <th></th>\n      <th>Month</th>\n      <th>DayofMonth</th>\n      <th>DayOfWeek</th>\n      <th>DepTime</th>\n      <th>UniqueCarrier</th>\n      <th>Origin</th>\n      <th>Dest</th>\n      <th>Distance</th>\n      <th>dep_delayed_15min</th>\n    </tr>\n  </thead>\n  <tbody>\n    <tr>\n      <th>0</th>\n      <td>c-8</td>\n      <td>c-21</td>\n      <td>c-7</td>\n      <td>1934</td>\n      <td>AA</td>\n      <td>ATL</td>\n      <td>DFW</td>\n      <td>732</td>\n      <td>N</td>\n    </tr>\n    <tr>\n      <th>1</th>\n      <td>c-4</td>\n      <td>c-20</td>\n      <td>c-3</td>\n      <td>1548</td>\n      <td>US</td>\n      <td>PIT</td>\n      <td>MCO</td>\n      <td>834</td>\n      <td>N</td>\n    </tr>\n    <tr>\n      <th>2</th>\n      <td>c-9</td>\n      <td>c-2</td>\n      <td>c-5</td>\n      <td>1422</td>\n      <td>XE</td>\n      <td>RDU</td>\n      <td>CLE</td>\n      <td>416</td>\n      <td>N</td>\n    </tr>\n    <tr>\n      <th>3</th>\n      <td>c-11</td>\n      <td>c-25</td>\n      <td>c-6</td>\n      <td>1015</td>\n      <td>OO</td>\n      <td>DEN</td>\n      <td>MEM</td>\n      <td>872</td>\n      <td>N</td>\n    </tr>\n    <tr>\n      <th>4</th>\n      <td>c-10</td>\n      <td>c-7</td>\n      <td>c-6</td>\n      <td>1828</td>\n      <td>WN</td>\n      <td>MDW</td>\n      <td>OMA</td>\n      <td>423</td>\n      <td>Y</td>\n    </tr>\n  </tbody>\n</table>\n</div>"
     },
     "execution_count": 3,
     "metadata": {},
     "output_type": "execute_result"
    }
   ],
   "source": [
    "train.head()"
   ]
  },
  {
   "cell_type": "code",
   "execution_count": 4,
   "metadata": {},
   "outputs": [
    {
     "data": {
      "text/plain": "  Month DayofMonth DayOfWeek  DepTime UniqueCarrier Origin Dest  Distance\n0   c-7       c-25       c-3      615            YV    MRY  PHX       598\n1   c-4       c-17       c-2      739            WN    LAS  HOU      1235\n2  c-12        c-2       c-7      651            MQ    GSP  ORD       577\n3   c-3       c-25       c-7     1614            WN    BWI  MHT       377\n4   c-6        c-6       c-3     1505            UA    ORD  STL       258",
      "text/html": "<div>\n<style scoped>\n    .dataframe tbody tr th:only-of-type {\n        vertical-align: middle;\n    }\n\n    .dataframe tbody tr th {\n        vertical-align: top;\n    }\n\n    .dataframe thead th {\n        text-align: right;\n    }\n</style>\n<table border=\"1\" class=\"dataframe\">\n  <thead>\n    <tr style=\"text-align: right;\">\n      <th></th>\n      <th>Month</th>\n      <th>DayofMonth</th>\n      <th>DayOfWeek</th>\n      <th>DepTime</th>\n      <th>UniqueCarrier</th>\n      <th>Origin</th>\n      <th>Dest</th>\n      <th>Distance</th>\n    </tr>\n  </thead>\n  <tbody>\n    <tr>\n      <th>0</th>\n      <td>c-7</td>\n      <td>c-25</td>\n      <td>c-3</td>\n      <td>615</td>\n      <td>YV</td>\n      <td>MRY</td>\n      <td>PHX</td>\n      <td>598</td>\n    </tr>\n    <tr>\n      <th>1</th>\n      <td>c-4</td>\n      <td>c-17</td>\n      <td>c-2</td>\n      <td>739</td>\n      <td>WN</td>\n      <td>LAS</td>\n      <td>HOU</td>\n      <td>1235</td>\n    </tr>\n    <tr>\n      <th>2</th>\n      <td>c-12</td>\n      <td>c-2</td>\n      <td>c-7</td>\n      <td>651</td>\n      <td>MQ</td>\n      <td>GSP</td>\n      <td>ORD</td>\n      <td>577</td>\n    </tr>\n    <tr>\n      <th>3</th>\n      <td>c-3</td>\n      <td>c-25</td>\n      <td>c-7</td>\n      <td>1614</td>\n      <td>WN</td>\n      <td>BWI</td>\n      <td>MHT</td>\n      <td>377</td>\n    </tr>\n    <tr>\n      <th>4</th>\n      <td>c-6</td>\n      <td>c-6</td>\n      <td>c-3</td>\n      <td>1505</td>\n      <td>UA</td>\n      <td>ORD</td>\n      <td>STL</td>\n      <td>258</td>\n    </tr>\n  </tbody>\n</table>\n</div>"
     },
     "execution_count": 4,
     "metadata": {},
     "output_type": "execute_result"
    }
   ],
   "source": [
    "test.head()"
   ]
  },
  {
   "cell_type": "markdown",
   "metadata": {},
   "source": [
    "Итак, надо по времени вылета самолета, коду авиакомпании-перевозчика, месту вылета и прилета и расстоянию между аэропортами вылета и прилета предсказать задержку вылета более 15 минут. В качестве простейшего бенчмарка возьмем логистическую регрессию и два признака, которые проще всего взять: `DepTime` и `Distance`. У такой модели результат – 0.68202 на LB."
   ]
  },
  {
   "cell_type": "code",
   "execution_count": 5,
   "metadata": {},
   "outputs": [],
   "source": [
    "X_train, y_train = (\n",
    "    train[[\"Distance\", \"DepTime\"]],\n",
    "    train[\"dep_delayed_15min\"].map({\"Y\": 1, \"N\": 0}),\n",
    ")\n",
    "X_test = test[[\"Distance\", \"DepTime\"]]\n",
    "\n",
    "X_train_part, X_valid, y_train_part, y_valid = train_test_split(\n",
    "    X_train, y_train, test_size=0.3, random_state=17\n",
    ")"
   ]
  },
  {
   "cell_type": "code",
   "execution_count": 6,
   "metadata": {},
   "outputs": [
    {
     "data": {
      "text/plain": "0.6795697123357751"
     },
     "execution_count": 6,
     "metadata": {},
     "output_type": "execute_result"
    }
   ],
   "source": [
    "logit = LogisticRegression(random_state=17)\n",
    "\n",
    "logit.fit(X_train_part, y_train_part)\n",
    "logit_valid_pred = logit.predict_proba(X_valid)[:, 1]\n",
    "\n",
    "roc_auc_score(y_valid, logit_valid_pred)"
   ]
  },
  {
   "cell_type": "code",
   "execution_count": 7,
   "metadata": {},
   "outputs": [],
   "source": [
    "logit.fit(X_train, y_train)\n",
    "logit_test_pred = logit.predict_proba(X_test)[:, 1]\n",
    "\n",
    "pd.Series(logit_test_pred, name=\"dep_delayed_15min\").to_csv(\n",
    "    \"logit_2feat.csv\", index_label=\"id\", header=True\n",
    ")"
   ]
  },
  {
   "cell_type": "markdown",
   "metadata": {},
   "source": [
    "Как был получен бенчмарк в соревновании:\n",
    "- Признаки `Distance` и  `DepTime` брались без изменений\n",
    "- Создан признак \"маршрут\" из исходных `Origin` и `Dest`\n",
    "- К признакам `Month`, `DayofMonth`, `DayOfWeek`, `UniqueCarrier` и \"маршрут\" применено OHE-преобразование (`LabelBinarizer`)\n",
    "- Выделена отложенная выборка\n",
    "- Обучалась логистическая регрессия и градиентный бустинг (xgboost), гиперпараметры бустинга настраивались на кросс-валидации, сначала те, что отвечают за сложность модели, затем число деревьев фиксировалось равным 500 и настраивался шаг градиентного спуска\n",
    "- С помощью `cross_val_predict` делались прогнозы обеих моделей на кросс-валидации (именно предсказанные вероятности), настраивалась линейная смесь ответов логистической регрессии и градиентного бустинга вида $w_1 * p_{logit} + (1 - w_1) * p_{xgb}$, где $p_{logit}$ – предсказанные логистической регрессией вероятности класса 1, $p_{xgb}$ – аналогично. Вес $w_1$ подбирался вручную. \n",
    "- В качестве ответа для тестовой выборки бралась аналогичная комбинация ответов двух моделей, но уже обученных на всей обучающей выборке.\n",
    "\n",
    "Описанный план ни к чему не обязывает – это просто то, как решение получил автор задания. Возможно, мы не захотите следовать намеченному плану, а добавите, скажем, пару хороших признаков и обучите лес из тысячи деревьев.\n",
    "\n",
    "Удачи!"
   ]
  },
  {
   "cell_type": "markdown",
   "source": [
    "## Заметный дисбаланс классов\n"
   ],
   "metadata": {
    "collapsed": false
   }
  },
  {
   "cell_type": "code",
   "execution_count": 8,
   "outputs": [
    {
     "data": {
      "text/plain": "dep_delayed_15min\nN    80956\nY    19044\nName: count, dtype: int64"
     },
     "execution_count": 8,
     "metadata": {},
     "output_type": "execute_result"
    }
   ],
   "source": [
    "train.value_counts(\"dep_delayed_15min\")"
   ],
   "metadata": {
    "collapsed": false
   }
  },
  {
   "cell_type": "markdown",
   "source": [
    "## Просто случайный лес, без предобработки и без категориальных признаков\n"
   ],
   "metadata": {
    "collapsed": false
   }
  },
  {
   "cell_type": "code",
   "execution_count": 9,
   "outputs": [],
   "source": [
    "from sklearn.model_selection import StratifiedKFold\n",
    "\n",
    "scv = StratifiedKFold(n_splits=5, shuffle=True, random_state=17)"
   ],
   "metadata": {
    "collapsed": false
   }
  },
  {
   "cell_type": "code",
   "execution_count": 10,
   "outputs": [],
   "source": [
    "from sklearn.ensemble import RandomForestClassifier\n",
    "from sklearn.model_selection import cross_val_score\n",
    "\n",
    "params = {\n",
    "    \"n_jobs\" : -1,\n",
    "    \"n_estimators\" : 100\n",
    "}\n",
    "\n",
    "rf_no_tune_cv = cross_val_score(RandomForestClassifier(**params), X_train, y_train, cv=scv, scoring=\"roc_auc\")"
   ],
   "metadata": {
    "collapsed": false
   }
  },
  {
   "cell_type": "code",
   "execution_count": 11,
   "outputs": [
    {
     "name": "stdout",
     "output_type": "stream",
     "text": [
      "Результат на кроссвалидации: 0.6782710381641122\n"
     ]
    }
   ],
   "source": [
    "print(f\"Результат на кроссвалидации: {np.mean(rf_no_tune_cv)}\")"
   ],
   "metadata": {
    "collapsed": false
   }
  },
  {
   "cell_type": "code",
   "execution_count": 12,
   "outputs": [
    {
     "data": {
      "text/plain": "array([0.    , 0.01  , 0.    , ..., 0.39  , 0.0175, 0.    ])"
     },
     "execution_count": 12,
     "metadata": {},
     "output_type": "execute_result"
    }
   ],
   "source": [
    "rf_no_tune = RandomForestClassifier(**params).fit(X_train_part, y_train_part)\n",
    "prob_rf_no_tune = rf_no_tune.predict_proba(X_valid)[:, 1]\n",
    "prob_rf_no_tune"
   ],
   "metadata": {
    "collapsed": false
   }
  },
  {
   "cell_type": "code",
   "execution_count": 13,
   "outputs": [
    {
     "name": "stdout",
     "output_type": "stream",
     "text": [
      "Результат на отложенной выборке: 0.6763220645335384\n"
     ]
    }
   ],
   "source": [
    "print(f\"Результат на отложенной выборке: {roc_auc_score(y_valid, prob_rf_no_tune)}\")"
   ],
   "metadata": {
    "collapsed": false
   }
  },
  {
   "cell_type": "markdown",
   "source": [
    "## Воспользуемся LabelEncoder"
   ],
   "metadata": {
    "collapsed": false
   }
  },
  {
   "cell_type": "code",
   "execution_count": 14,
   "outputs": [],
   "source": [
    "y = train[\"dep_delayed_15min\"].map({\"Y\": 1, \"N\": 0})\n",
    "train = train.drop(\"dep_delayed_15min\", axis=1)"
   ],
   "metadata": {
    "collapsed": false
   }
  },
  {
   "cell_type": "code",
   "execution_count": 15,
   "outputs": [
    {
     "data": {
      "text/plain": "['Month', 'DayofMonth', 'DayOfWeek', 'UniqueCarrier', 'Origin', 'Dest']"
     },
     "execution_count": 15,
     "metadata": {},
     "output_type": "execute_result"
    }
   ],
   "source": [
    "cat_features =  list(train.columns[train.dtypes == \"object\"])\n",
    "cat_features"
   ],
   "metadata": {
    "collapsed": false
   }
  },
  {
   "cell_type": "code",
   "execution_count": 16,
   "outputs": [
    {
     "data": {
      "text/plain": "       Month  DayofMonth  DayOfWeek  DepTime  UniqueCarrier  Origin  Dest  \\\n0         10          13          6     1934              0      18    78   \n1          6          12          2     1548             18     217   171   \n2         11          11          4     1422             20     228    59   \n3          2          17          5     1015             15      78   175   \n4          1          28          5     1828             19     174   199   \n...      ...         ...        ...      ...            ...     ...   ...   \n99995      7          25          2     1618             15     246   224   \n99996      0           9          2      804              4      92    72   \n99997      0          16          1     1901             13      85   131   \n99998      6          19          3     1515             12      79   107   \n99999      2           8          3     1800             19     245   253   \n\n       Distance  \n0           732  \n1           834  \n2           416  \n3           872  \n4           423  \n...         ...  \n99995       199  \n99996       884  \n99997      1076  \n99998       140  \n99999       605  \n\n[100000 rows x 8 columns]",
      "text/html": "<div>\n<style scoped>\n    .dataframe tbody tr th:only-of-type {\n        vertical-align: middle;\n    }\n\n    .dataframe tbody tr th {\n        vertical-align: top;\n    }\n\n    .dataframe thead th {\n        text-align: right;\n    }\n</style>\n<table border=\"1\" class=\"dataframe\">\n  <thead>\n    <tr style=\"text-align: right;\">\n      <th></th>\n      <th>Month</th>\n      <th>DayofMonth</th>\n      <th>DayOfWeek</th>\n      <th>DepTime</th>\n      <th>UniqueCarrier</th>\n      <th>Origin</th>\n      <th>Dest</th>\n      <th>Distance</th>\n    </tr>\n  </thead>\n  <tbody>\n    <tr>\n      <th>0</th>\n      <td>10</td>\n      <td>13</td>\n      <td>6</td>\n      <td>1934</td>\n      <td>0</td>\n      <td>18</td>\n      <td>78</td>\n      <td>732</td>\n    </tr>\n    <tr>\n      <th>1</th>\n      <td>6</td>\n      <td>12</td>\n      <td>2</td>\n      <td>1548</td>\n      <td>18</td>\n      <td>217</td>\n      <td>171</td>\n      <td>834</td>\n    </tr>\n    <tr>\n      <th>2</th>\n      <td>11</td>\n      <td>11</td>\n      <td>4</td>\n      <td>1422</td>\n      <td>20</td>\n      <td>228</td>\n      <td>59</td>\n      <td>416</td>\n    </tr>\n    <tr>\n      <th>3</th>\n      <td>2</td>\n      <td>17</td>\n      <td>5</td>\n      <td>1015</td>\n      <td>15</td>\n      <td>78</td>\n      <td>175</td>\n      <td>872</td>\n    </tr>\n    <tr>\n      <th>4</th>\n      <td>1</td>\n      <td>28</td>\n      <td>5</td>\n      <td>1828</td>\n      <td>19</td>\n      <td>174</td>\n      <td>199</td>\n      <td>423</td>\n    </tr>\n    <tr>\n      <th>...</th>\n      <td>...</td>\n      <td>...</td>\n      <td>...</td>\n      <td>...</td>\n      <td>...</td>\n      <td>...</td>\n      <td>...</td>\n      <td>...</td>\n    </tr>\n    <tr>\n      <th>99995</th>\n      <td>7</td>\n      <td>25</td>\n      <td>2</td>\n      <td>1618</td>\n      <td>15</td>\n      <td>246</td>\n      <td>224</td>\n      <td>199</td>\n    </tr>\n    <tr>\n      <th>99996</th>\n      <td>0</td>\n      <td>9</td>\n      <td>2</td>\n      <td>804</td>\n      <td>4</td>\n      <td>92</td>\n      <td>72</td>\n      <td>884</td>\n    </tr>\n    <tr>\n      <th>99997</th>\n      <td>0</td>\n      <td>16</td>\n      <td>1</td>\n      <td>1901</td>\n      <td>13</td>\n      <td>85</td>\n      <td>131</td>\n      <td>1076</td>\n    </tr>\n    <tr>\n      <th>99998</th>\n      <td>6</td>\n      <td>19</td>\n      <td>3</td>\n      <td>1515</td>\n      <td>12</td>\n      <td>79</td>\n      <td>107</td>\n      <td>140</td>\n    </tr>\n    <tr>\n      <th>99999</th>\n      <td>2</td>\n      <td>8</td>\n      <td>3</td>\n      <td>1800</td>\n      <td>19</td>\n      <td>245</td>\n      <td>253</td>\n      <td>605</td>\n    </tr>\n  </tbody>\n</table>\n<p>100000 rows × 8 columns</p>\n</div>"
     },
     "execution_count": 16,
     "metadata": {},
     "output_type": "execute_result"
    }
   ],
   "source": [
    "from sklearn.preprocessing import LabelEncoder\n",
    "\n",
    "label_encoder = LabelEncoder()\n",
    "train_label_encoded = train.copy()\n",
    "for feature in cat_features:\n",
    "    train_label_encoded[feature] = label_encoder.fit_transform(train_label_encoded[feature])\n",
    "train_label_encoded"
   ],
   "metadata": {
    "collapsed": false
   }
  },
  {
   "cell_type": "code",
   "execution_count": 17,
   "outputs": [],
   "source": [
    "rf_label_encoded_cv = cross_val_score(RandomForestClassifier(**params), train_label_encoded, y, cv=scv, scoring=\"roc_auc\")"
   ],
   "metadata": {
    "collapsed": false
   }
  },
  {
   "cell_type": "code",
   "execution_count": 18,
   "outputs": [
    {
     "name": "stdout",
     "output_type": "stream",
     "text": [
      "Результат на кроссвалидации: 0.727701233281608\n"
     ]
    }
   ],
   "source": [
    "print(f\"Результат на кроссвалидации: {np.mean(rf_label_encoded_cv)}\")"
   ],
   "metadata": {
    "collapsed": false
   }
  },
  {
   "cell_type": "markdown",
   "source": [
    "## OneHotEncoding для всех категориальных признаков признаков"
   ],
   "metadata": {
    "collapsed": false
   }
  },
  {
   "cell_type": "code",
   "execution_count": 19,
   "outputs": [
    {
     "data": {
      "text/plain": "       DepTime  Distance  Month_c-1  Month_c-10  Month_c-11  Month_c-12  \\\n0         1934       732        0.0         0.0         0.0         0.0   \n1         1548       834        0.0         0.0         0.0         0.0   \n2         1422       416        0.0         0.0         0.0         0.0   \n3         1015       872        0.0         0.0         1.0         0.0   \n4         1828       423        0.0         1.0         0.0         0.0   \n...        ...       ...        ...         ...         ...         ...   \n99995     1618       199        0.0         0.0         0.0         0.0   \n99996      804       884        1.0         0.0         0.0         0.0   \n99997     1901      1076        1.0         0.0         0.0         0.0   \n99998     1515       140        0.0         0.0         0.0         0.0   \n99999     1800       605        0.0         0.0         1.0         0.0   \n\n       Month_c-2  Month_c-3  Month_c-4  Month_c-5  ...  Dest_TYS  Dest_VCT  \\\n0            0.0        0.0        0.0        0.0  ...       0.0       0.0   \n1            0.0        0.0        1.0        0.0  ...       0.0       0.0   \n2            0.0        0.0        0.0        0.0  ...       0.0       0.0   \n3            0.0        0.0        0.0        0.0  ...       0.0       0.0   \n4            0.0        0.0        0.0        0.0  ...       0.0       0.0   \n...          ...        ...        ...        ...  ...       ...       ...   \n99995        0.0        0.0        0.0        1.0  ...       0.0       0.0   \n99996        0.0        0.0        0.0        0.0  ...       0.0       0.0   \n99997        0.0        0.0        0.0        0.0  ...       0.0       0.0   \n99998        0.0        0.0        1.0        0.0  ...       0.0       0.0   \n99999        0.0        0.0        0.0        0.0  ...       0.0       0.0   \n\n       Dest_VIS  Dest_VLD  Dest_VPS  Dest_WRG  Dest_WYS  Dest_XNA  Dest_YAK  \\\n0           0.0       0.0       0.0       0.0       0.0       0.0       0.0   \n1           0.0       0.0       0.0       0.0       0.0       0.0       0.0   \n2           0.0       0.0       0.0       0.0       0.0       0.0       0.0   \n3           0.0       0.0       0.0       0.0       0.0       0.0       0.0   \n4           0.0       0.0       0.0       0.0       0.0       0.0       0.0   \n...         ...       ...       ...       ...       ...       ...       ...   \n99995       0.0       0.0       0.0       0.0       0.0       0.0       0.0   \n99996       0.0       0.0       0.0       0.0       0.0       0.0       0.0   \n99997       0.0       0.0       0.0       0.0       0.0       0.0       0.0   \n99998       0.0       0.0       0.0       0.0       0.0       0.0       0.0   \n99999       0.0       0.0       0.0       0.0       0.0       0.0       0.0   \n\n       Dest_YUM  \n0           0.0  \n1           0.0  \n2           0.0  \n3           0.0  \n4           0.0  \n...         ...  \n99995       0.0  \n99996       0.0  \n99997       0.0  \n99998       0.0  \n99999       0.0  \n\n[100000 rows x 652 columns]",
      "text/html": "<div>\n<style scoped>\n    .dataframe tbody tr th:only-of-type {\n        vertical-align: middle;\n    }\n\n    .dataframe tbody tr th {\n        vertical-align: top;\n    }\n\n    .dataframe thead th {\n        text-align: right;\n    }\n</style>\n<table border=\"1\" class=\"dataframe\">\n  <thead>\n    <tr style=\"text-align: right;\">\n      <th></th>\n      <th>DepTime</th>\n      <th>Distance</th>\n      <th>Month_c-1</th>\n      <th>Month_c-10</th>\n      <th>Month_c-11</th>\n      <th>Month_c-12</th>\n      <th>Month_c-2</th>\n      <th>Month_c-3</th>\n      <th>Month_c-4</th>\n      <th>Month_c-5</th>\n      <th>...</th>\n      <th>Dest_TYS</th>\n      <th>Dest_VCT</th>\n      <th>Dest_VIS</th>\n      <th>Dest_VLD</th>\n      <th>Dest_VPS</th>\n      <th>Dest_WRG</th>\n      <th>Dest_WYS</th>\n      <th>Dest_XNA</th>\n      <th>Dest_YAK</th>\n      <th>Dest_YUM</th>\n    </tr>\n  </thead>\n  <tbody>\n    <tr>\n      <th>0</th>\n      <td>1934</td>\n      <td>732</td>\n      <td>0.0</td>\n      <td>0.0</td>\n      <td>0.0</td>\n      <td>0.0</td>\n      <td>0.0</td>\n      <td>0.0</td>\n      <td>0.0</td>\n      <td>0.0</td>\n      <td>...</td>\n      <td>0.0</td>\n      <td>0.0</td>\n      <td>0.0</td>\n      <td>0.0</td>\n      <td>0.0</td>\n      <td>0.0</td>\n      <td>0.0</td>\n      <td>0.0</td>\n      <td>0.0</td>\n      <td>0.0</td>\n    </tr>\n    <tr>\n      <th>1</th>\n      <td>1548</td>\n      <td>834</td>\n      <td>0.0</td>\n      <td>0.0</td>\n      <td>0.0</td>\n      <td>0.0</td>\n      <td>0.0</td>\n      <td>0.0</td>\n      <td>1.0</td>\n      <td>0.0</td>\n      <td>...</td>\n      <td>0.0</td>\n      <td>0.0</td>\n      <td>0.0</td>\n      <td>0.0</td>\n      <td>0.0</td>\n      <td>0.0</td>\n      <td>0.0</td>\n      <td>0.0</td>\n      <td>0.0</td>\n      <td>0.0</td>\n    </tr>\n    <tr>\n      <th>2</th>\n      <td>1422</td>\n      <td>416</td>\n      <td>0.0</td>\n      <td>0.0</td>\n      <td>0.0</td>\n      <td>0.0</td>\n      <td>0.0</td>\n      <td>0.0</td>\n      <td>0.0</td>\n      <td>0.0</td>\n      <td>...</td>\n      <td>0.0</td>\n      <td>0.0</td>\n      <td>0.0</td>\n      <td>0.0</td>\n      <td>0.0</td>\n      <td>0.0</td>\n      <td>0.0</td>\n      <td>0.0</td>\n      <td>0.0</td>\n      <td>0.0</td>\n    </tr>\n    <tr>\n      <th>3</th>\n      <td>1015</td>\n      <td>872</td>\n      <td>0.0</td>\n      <td>0.0</td>\n      <td>1.0</td>\n      <td>0.0</td>\n      <td>0.0</td>\n      <td>0.0</td>\n      <td>0.0</td>\n      <td>0.0</td>\n      <td>...</td>\n      <td>0.0</td>\n      <td>0.0</td>\n      <td>0.0</td>\n      <td>0.0</td>\n      <td>0.0</td>\n      <td>0.0</td>\n      <td>0.0</td>\n      <td>0.0</td>\n      <td>0.0</td>\n      <td>0.0</td>\n    </tr>\n    <tr>\n      <th>4</th>\n      <td>1828</td>\n      <td>423</td>\n      <td>0.0</td>\n      <td>1.0</td>\n      <td>0.0</td>\n      <td>0.0</td>\n      <td>0.0</td>\n      <td>0.0</td>\n      <td>0.0</td>\n      <td>0.0</td>\n      <td>...</td>\n      <td>0.0</td>\n      <td>0.0</td>\n      <td>0.0</td>\n      <td>0.0</td>\n      <td>0.0</td>\n      <td>0.0</td>\n      <td>0.0</td>\n      <td>0.0</td>\n      <td>0.0</td>\n      <td>0.0</td>\n    </tr>\n    <tr>\n      <th>...</th>\n      <td>...</td>\n      <td>...</td>\n      <td>...</td>\n      <td>...</td>\n      <td>...</td>\n      <td>...</td>\n      <td>...</td>\n      <td>...</td>\n      <td>...</td>\n      <td>...</td>\n      <td>...</td>\n      <td>...</td>\n      <td>...</td>\n      <td>...</td>\n      <td>...</td>\n      <td>...</td>\n      <td>...</td>\n      <td>...</td>\n      <td>...</td>\n      <td>...</td>\n      <td>...</td>\n    </tr>\n    <tr>\n      <th>99995</th>\n      <td>1618</td>\n      <td>199</td>\n      <td>0.0</td>\n      <td>0.0</td>\n      <td>0.0</td>\n      <td>0.0</td>\n      <td>0.0</td>\n      <td>0.0</td>\n      <td>0.0</td>\n      <td>1.0</td>\n      <td>...</td>\n      <td>0.0</td>\n      <td>0.0</td>\n      <td>0.0</td>\n      <td>0.0</td>\n      <td>0.0</td>\n      <td>0.0</td>\n      <td>0.0</td>\n      <td>0.0</td>\n      <td>0.0</td>\n      <td>0.0</td>\n    </tr>\n    <tr>\n      <th>99996</th>\n      <td>804</td>\n      <td>884</td>\n      <td>1.0</td>\n      <td>0.0</td>\n      <td>0.0</td>\n      <td>0.0</td>\n      <td>0.0</td>\n      <td>0.0</td>\n      <td>0.0</td>\n      <td>0.0</td>\n      <td>...</td>\n      <td>0.0</td>\n      <td>0.0</td>\n      <td>0.0</td>\n      <td>0.0</td>\n      <td>0.0</td>\n      <td>0.0</td>\n      <td>0.0</td>\n      <td>0.0</td>\n      <td>0.0</td>\n      <td>0.0</td>\n    </tr>\n    <tr>\n      <th>99997</th>\n      <td>1901</td>\n      <td>1076</td>\n      <td>1.0</td>\n      <td>0.0</td>\n      <td>0.0</td>\n      <td>0.0</td>\n      <td>0.0</td>\n      <td>0.0</td>\n      <td>0.0</td>\n      <td>0.0</td>\n      <td>...</td>\n      <td>0.0</td>\n      <td>0.0</td>\n      <td>0.0</td>\n      <td>0.0</td>\n      <td>0.0</td>\n      <td>0.0</td>\n      <td>0.0</td>\n      <td>0.0</td>\n      <td>0.0</td>\n      <td>0.0</td>\n    </tr>\n    <tr>\n      <th>99998</th>\n      <td>1515</td>\n      <td>140</td>\n      <td>0.0</td>\n      <td>0.0</td>\n      <td>0.0</td>\n      <td>0.0</td>\n      <td>0.0</td>\n      <td>0.0</td>\n      <td>1.0</td>\n      <td>0.0</td>\n      <td>...</td>\n      <td>0.0</td>\n      <td>0.0</td>\n      <td>0.0</td>\n      <td>0.0</td>\n      <td>0.0</td>\n      <td>0.0</td>\n      <td>0.0</td>\n      <td>0.0</td>\n      <td>0.0</td>\n      <td>0.0</td>\n    </tr>\n    <tr>\n      <th>99999</th>\n      <td>1800</td>\n      <td>605</td>\n      <td>0.0</td>\n      <td>0.0</td>\n      <td>1.0</td>\n      <td>0.0</td>\n      <td>0.0</td>\n      <td>0.0</td>\n      <td>0.0</td>\n      <td>0.0</td>\n      <td>...</td>\n      <td>0.0</td>\n      <td>0.0</td>\n      <td>0.0</td>\n      <td>0.0</td>\n      <td>0.0</td>\n      <td>0.0</td>\n      <td>0.0</td>\n      <td>0.0</td>\n      <td>0.0</td>\n      <td>0.0</td>\n    </tr>\n  </tbody>\n</table>\n<p>100000 rows × 652 columns</p>\n</div>"
     },
     "execution_count": 19,
     "metadata": {},
     "output_type": "execute_result"
    }
   ],
   "source": [
    "pd.get_dummies(train, dtype=float)"
   ],
   "metadata": {
    "collapsed": false
   }
  },
  {
   "cell_type": "code",
   "execution_count": 20,
   "outputs": [],
   "source": [
    "# Другой вариант\n",
    "from sklearn.preprocessing import OneHotEncoder\n",
    "\n",
    "encoder = OneHotEncoder(sparse_output=False, handle_unknown=\"ignore\")\n",
    "train_onehot_encoded = train.copy()\n",
    "train_onehot_encoded = train_onehot_encoded[[\"DepTime\", \"Distance\"]]\n",
    "one_hot_encoded = encoder.fit_transform(train[cat_features])"
   ],
   "metadata": {
    "collapsed": false
   }
  },
  {
   "cell_type": "code",
   "execution_count": 21,
   "outputs": [],
   "source": [
    "one_hot_df = pd.DataFrame(one_hot_encoded, columns=encoder.get_feature_names_out())\n",
    "train_onehot_encoded = pd.concat([train_onehot_encoded, one_hot_df], axis=1)"
   ],
   "metadata": {
    "collapsed": false
   }
  },
  {
   "cell_type": "code",
   "execution_count": 22,
   "outputs": [],
   "source": [
    "X_train_onehot, X_valid_onehot, y_train_onehot, y_valid_onehot = train_test_split(\n",
    "    train_onehot_encoded, y, test_size=0.3, random_state=17, stratify=y)\n",
    "\n",
    "rf_onehot = RandomForestClassifier(**params).fit(X_train_onehot, y_train_onehot)"
   ],
   "metadata": {
    "collapsed": false
   }
  },
  {
   "cell_type": "markdown",
   "source": [],
   "metadata": {
    "collapsed": false
   }
  },
  {
   "cell_type": "code",
   "execution_count": 23,
   "outputs": [
    {
     "name": "stdout",
     "output_type": "stream",
     "text": [
      "Результат на отложенной выборке: 0.7343303805920667\n"
     ]
    }
   ],
   "source": [
    "prob_onehot = rf_onehot.predict_proba(X_valid_onehot)[:, 1]\n",
    "print(f\"Результат на отложенной выборке: {roc_auc_score(y_valid_onehot, prob_onehot)}\")"
   ],
   "metadata": {
    "collapsed": false
   }
  },
  {
   "cell_type": "markdown",
   "source": [
    "## Попробуем XGBoost"
   ],
   "metadata": {
    "collapsed": false
   }
  },
  {
   "cell_type": "code",
   "execution_count": 24,
   "outputs": [],
   "source": [
    "import xgboost as xgb\n",
    "\n",
    "xgb_params = {\n",
    "    \"max_depth\": 1,\n",
    "    \"eta\": 0.3,\n",
    "    \"silent\": 0,\n",
    "    \"objective\": \"binary:logistic\",\n",
    "    \"eval_metric\": \"auc\"\n",
    "}\n",
    "\n",
    "dtrain = xgb.DMatrix(X_train_onehot, y_train_onehot)\n",
    "dvalid = xgb.DMatrix(X_valid_onehot, y_valid_onehot)"
   ],
   "metadata": {
    "collapsed": false
   }
  },
  {
   "cell_type": "code",
   "execution_count": 25,
   "outputs": [
    {
     "name": "stderr",
     "output_type": "stream",
     "text": [
      "D:\\Programms\\PyCharm 2022.3.1\\saves\\edu_project\\venv\\Lib\\site-packages\\xgboost\\core.py:723: FutureWarning: Pass `evals` as keyword args.\n",
      "  warnings.warn(msg, FutureWarning)\n",
      "D:\\Programms\\PyCharm 2022.3.1\\saves\\edu_project\\venv\\Lib\\site-packages\\xgboost\\core.py:158: UserWarning: [00:15:44] WARNING: C:\\buildkite-agent\\builds\\buildkite-windows-cpu-autoscaling-group-i-0015a694724fa8361-1\\xgboost\\xgboost-ci-windows\\src\\learner.cc:740: \n",
      "Parameters: { \"silent\" } are not used.\n",
      "\n",
      "  warnings.warn(smsg, UserWarning)\n"
     ]
    },
    {
     "name": "stdout",
     "output_type": "stream",
     "text": [
      "[0]\tvalid-auc:0.63607\ttrain-auc:0.63047\n"
     ]
    }
   ],
   "source": [
    "watchlist = [(dvalid, \"valid\"), (dtrain, \"train\")]\n",
    "boost = xgb.train(xgb_params, dtrain, 1, watchlist)"
   ],
   "metadata": {
    "collapsed": false
   }
  },
  {
   "cell_type": "code",
   "execution_count": 26,
   "outputs": [],
   "source": [
    "test_encoded = encoder.transform(test[cat_features])\n",
    "one_hot_df = pd.DataFrame(test_encoded, columns=encoder.get_feature_names_out())\n",
    "test_encoded = pd.concat([test[[\"DepTime\", \"Distance\"]], one_hot_df], axis=1)"
   ],
   "metadata": {
    "collapsed": false
   }
  },
  {
   "cell_type": "code",
   "execution_count": 27,
   "outputs": [
    {
     "data": {
      "text/plain": "       DepTime  Distance  Month_c-1  Month_c-10  Month_c-11  Month_c-12  \\\n0          615       598        0.0         0.0         0.0         0.0   \n1          739      1235        0.0         0.0         0.0         0.0   \n2          651       577        0.0         0.0         0.0         1.0   \n3         1614       377        0.0         0.0         0.0         0.0   \n4         1505       258        0.0         0.0         0.0         0.0   \n...        ...       ...        ...         ...         ...         ...   \n99995      852       187        0.0         0.0         0.0         0.0   \n99996     1446      1515        0.0         0.0         1.0         0.0   \n99997     1509       438        1.0         0.0         0.0         0.0   \n99998      804       761        1.0         0.0         0.0         0.0   \n99999      834       297        0.0         1.0         0.0         0.0   \n\n       Month_c-2  Month_c-3  Month_c-4  Month_c-5  ...  Dest_TYS  Dest_VCT  \\\n0            0.0        0.0        0.0        0.0  ...       0.0       0.0   \n1            0.0        0.0        1.0        0.0  ...       0.0       0.0   \n2            0.0        0.0        0.0        0.0  ...       0.0       0.0   \n3            0.0        1.0        0.0        0.0  ...       0.0       0.0   \n4            0.0        0.0        0.0        0.0  ...       0.0       0.0   \n...          ...        ...        ...        ...  ...       ...       ...   \n99995        0.0        0.0        0.0        0.0  ...       0.0       0.0   \n99996        0.0        0.0        0.0        0.0  ...       0.0       0.0   \n99997        0.0        0.0        0.0        0.0  ...       0.0       0.0   \n99998        0.0        0.0        0.0        0.0  ...       0.0       0.0   \n99999        0.0        0.0        0.0        0.0  ...       0.0       0.0   \n\n       Dest_VIS  Dest_VLD  Dest_VPS  Dest_WRG  Dest_WYS  Dest_XNA  Dest_YAK  \\\n0           0.0       0.0       0.0       0.0       0.0       0.0       0.0   \n1           0.0       0.0       0.0       0.0       0.0       0.0       0.0   \n2           0.0       0.0       0.0       0.0       0.0       0.0       0.0   \n3           0.0       0.0       0.0       0.0       0.0       0.0       0.0   \n4           0.0       0.0       0.0       0.0       0.0       0.0       0.0   \n...         ...       ...       ...       ...       ...       ...       ...   \n99995       0.0       0.0       0.0       0.0       0.0       0.0       0.0   \n99996       0.0       0.0       0.0       0.0       0.0       0.0       0.0   \n99997       0.0       0.0       0.0       0.0       0.0       0.0       0.0   \n99998       0.0       0.0       0.0       0.0       0.0       0.0       0.0   \n99999       0.0       0.0       0.0       0.0       0.0       0.0       0.0   \n\n       Dest_YUM  \n0           0.0  \n1           0.0  \n2           0.0  \n3           0.0  \n4           0.0  \n...         ...  \n99995       0.0  \n99996       0.0  \n99997       0.0  \n99998       0.0  \n99999       0.0  \n\n[100000 rows x 652 columns]",
      "text/html": "<div>\n<style scoped>\n    .dataframe tbody tr th:only-of-type {\n        vertical-align: middle;\n    }\n\n    .dataframe tbody tr th {\n        vertical-align: top;\n    }\n\n    .dataframe thead th {\n        text-align: right;\n    }\n</style>\n<table border=\"1\" class=\"dataframe\">\n  <thead>\n    <tr style=\"text-align: right;\">\n      <th></th>\n      <th>DepTime</th>\n      <th>Distance</th>\n      <th>Month_c-1</th>\n      <th>Month_c-10</th>\n      <th>Month_c-11</th>\n      <th>Month_c-12</th>\n      <th>Month_c-2</th>\n      <th>Month_c-3</th>\n      <th>Month_c-4</th>\n      <th>Month_c-5</th>\n      <th>...</th>\n      <th>Dest_TYS</th>\n      <th>Dest_VCT</th>\n      <th>Dest_VIS</th>\n      <th>Dest_VLD</th>\n      <th>Dest_VPS</th>\n      <th>Dest_WRG</th>\n      <th>Dest_WYS</th>\n      <th>Dest_XNA</th>\n      <th>Dest_YAK</th>\n      <th>Dest_YUM</th>\n    </tr>\n  </thead>\n  <tbody>\n    <tr>\n      <th>0</th>\n      <td>615</td>\n      <td>598</td>\n      <td>0.0</td>\n      <td>0.0</td>\n      <td>0.0</td>\n      <td>0.0</td>\n      <td>0.0</td>\n      <td>0.0</td>\n      <td>0.0</td>\n      <td>0.0</td>\n      <td>...</td>\n      <td>0.0</td>\n      <td>0.0</td>\n      <td>0.0</td>\n      <td>0.0</td>\n      <td>0.0</td>\n      <td>0.0</td>\n      <td>0.0</td>\n      <td>0.0</td>\n      <td>0.0</td>\n      <td>0.0</td>\n    </tr>\n    <tr>\n      <th>1</th>\n      <td>739</td>\n      <td>1235</td>\n      <td>0.0</td>\n      <td>0.0</td>\n      <td>0.0</td>\n      <td>0.0</td>\n      <td>0.0</td>\n      <td>0.0</td>\n      <td>1.0</td>\n      <td>0.0</td>\n      <td>...</td>\n      <td>0.0</td>\n      <td>0.0</td>\n      <td>0.0</td>\n      <td>0.0</td>\n      <td>0.0</td>\n      <td>0.0</td>\n      <td>0.0</td>\n      <td>0.0</td>\n      <td>0.0</td>\n      <td>0.0</td>\n    </tr>\n    <tr>\n      <th>2</th>\n      <td>651</td>\n      <td>577</td>\n      <td>0.0</td>\n      <td>0.0</td>\n      <td>0.0</td>\n      <td>1.0</td>\n      <td>0.0</td>\n      <td>0.0</td>\n      <td>0.0</td>\n      <td>0.0</td>\n      <td>...</td>\n      <td>0.0</td>\n      <td>0.0</td>\n      <td>0.0</td>\n      <td>0.0</td>\n      <td>0.0</td>\n      <td>0.0</td>\n      <td>0.0</td>\n      <td>0.0</td>\n      <td>0.0</td>\n      <td>0.0</td>\n    </tr>\n    <tr>\n      <th>3</th>\n      <td>1614</td>\n      <td>377</td>\n      <td>0.0</td>\n      <td>0.0</td>\n      <td>0.0</td>\n      <td>0.0</td>\n      <td>0.0</td>\n      <td>1.0</td>\n      <td>0.0</td>\n      <td>0.0</td>\n      <td>...</td>\n      <td>0.0</td>\n      <td>0.0</td>\n      <td>0.0</td>\n      <td>0.0</td>\n      <td>0.0</td>\n      <td>0.0</td>\n      <td>0.0</td>\n      <td>0.0</td>\n      <td>0.0</td>\n      <td>0.0</td>\n    </tr>\n    <tr>\n      <th>4</th>\n      <td>1505</td>\n      <td>258</td>\n      <td>0.0</td>\n      <td>0.0</td>\n      <td>0.0</td>\n      <td>0.0</td>\n      <td>0.0</td>\n      <td>0.0</td>\n      <td>0.0</td>\n      <td>0.0</td>\n      <td>...</td>\n      <td>0.0</td>\n      <td>0.0</td>\n      <td>0.0</td>\n      <td>0.0</td>\n      <td>0.0</td>\n      <td>0.0</td>\n      <td>0.0</td>\n      <td>0.0</td>\n      <td>0.0</td>\n      <td>0.0</td>\n    </tr>\n    <tr>\n      <th>...</th>\n      <td>...</td>\n      <td>...</td>\n      <td>...</td>\n      <td>...</td>\n      <td>...</td>\n      <td>...</td>\n      <td>...</td>\n      <td>...</td>\n      <td>...</td>\n      <td>...</td>\n      <td>...</td>\n      <td>...</td>\n      <td>...</td>\n      <td>...</td>\n      <td>...</td>\n      <td>...</td>\n      <td>...</td>\n      <td>...</td>\n      <td>...</td>\n      <td>...</td>\n      <td>...</td>\n    </tr>\n    <tr>\n      <th>99995</th>\n      <td>852</td>\n      <td>187</td>\n      <td>0.0</td>\n      <td>0.0</td>\n      <td>0.0</td>\n      <td>0.0</td>\n      <td>0.0</td>\n      <td>0.0</td>\n      <td>0.0</td>\n      <td>0.0</td>\n      <td>...</td>\n      <td>0.0</td>\n      <td>0.0</td>\n      <td>0.0</td>\n      <td>0.0</td>\n      <td>0.0</td>\n      <td>0.0</td>\n      <td>0.0</td>\n      <td>0.0</td>\n      <td>0.0</td>\n      <td>0.0</td>\n    </tr>\n    <tr>\n      <th>99996</th>\n      <td>1446</td>\n      <td>1515</td>\n      <td>0.0</td>\n      <td>0.0</td>\n      <td>1.0</td>\n      <td>0.0</td>\n      <td>0.0</td>\n      <td>0.0</td>\n      <td>0.0</td>\n      <td>0.0</td>\n      <td>...</td>\n      <td>0.0</td>\n      <td>0.0</td>\n      <td>0.0</td>\n      <td>0.0</td>\n      <td>0.0</td>\n      <td>0.0</td>\n      <td>0.0</td>\n      <td>0.0</td>\n      <td>0.0</td>\n      <td>0.0</td>\n    </tr>\n    <tr>\n      <th>99997</th>\n      <td>1509</td>\n      <td>438</td>\n      <td>1.0</td>\n      <td>0.0</td>\n      <td>0.0</td>\n      <td>0.0</td>\n      <td>0.0</td>\n      <td>0.0</td>\n      <td>0.0</td>\n      <td>0.0</td>\n      <td>...</td>\n      <td>0.0</td>\n      <td>0.0</td>\n      <td>0.0</td>\n      <td>0.0</td>\n      <td>0.0</td>\n      <td>0.0</td>\n      <td>0.0</td>\n      <td>0.0</td>\n      <td>0.0</td>\n      <td>0.0</td>\n    </tr>\n    <tr>\n      <th>99998</th>\n      <td>804</td>\n      <td>761</td>\n      <td>1.0</td>\n      <td>0.0</td>\n      <td>0.0</td>\n      <td>0.0</td>\n      <td>0.0</td>\n      <td>0.0</td>\n      <td>0.0</td>\n      <td>0.0</td>\n      <td>...</td>\n      <td>0.0</td>\n      <td>0.0</td>\n      <td>0.0</td>\n      <td>0.0</td>\n      <td>0.0</td>\n      <td>0.0</td>\n      <td>0.0</td>\n      <td>0.0</td>\n      <td>0.0</td>\n      <td>0.0</td>\n    </tr>\n    <tr>\n      <th>99999</th>\n      <td>834</td>\n      <td>297</td>\n      <td>0.0</td>\n      <td>1.0</td>\n      <td>0.0</td>\n      <td>0.0</td>\n      <td>0.0</td>\n      <td>0.0</td>\n      <td>0.0</td>\n      <td>0.0</td>\n      <td>...</td>\n      <td>0.0</td>\n      <td>0.0</td>\n      <td>0.0</td>\n      <td>0.0</td>\n      <td>0.0</td>\n      <td>0.0</td>\n      <td>0.0</td>\n      <td>0.0</td>\n      <td>0.0</td>\n      <td>0.0</td>\n    </tr>\n  </tbody>\n</table>\n<p>100000 rows × 652 columns</p>\n</div>"
     },
     "execution_count": 27,
     "metadata": {},
     "output_type": "execute_result"
    }
   ],
   "source": [
    "test_encoded"
   ],
   "metadata": {
    "collapsed": false
   }
  },
  {
   "cell_type": "code",
   "execution_count": 28,
   "outputs": [],
   "source": [
    "dtest = xgb.DMatrix(test_encoded)\n",
    "xgb_test_pred = boost.predict(dtest)\n",
    "\n",
    "pd.Series(xgb_test_pred, name=\"dep_delayed_15min\").to_csv(\n",
    "    \"xgb_1.csv\", index_label=\"id\", header=True\n",
    ")"
   ],
   "metadata": {
    "collapsed": false
   }
  },
  {
   "cell_type": "markdown",
   "source": [
    "## План:\n",
    "* Добавить новые признаки в модель\n",
    "* Подобрать гиперпараметры с помощью Hyperopt"
   ],
   "metadata": {
    "collapsed": false
   }
  },
  {
   "cell_type": "code",
   "execution_count": 29,
   "outputs": [
    {
     "data": {
      "text/plain": "      Month DayofMonth DayOfWeek  DepTime UniqueCarrier Origin Dest  Distance\n0       c-8       c-21       c-7     1934            AA    ATL  DFW       732\n1       c-4       c-20       c-3     1548            US    PIT  MCO       834\n2       c-9        c-2       c-5     1422            XE    RDU  CLE       416\n3      c-11       c-25       c-6     1015            OO    DEN  MEM       872\n4      c-10        c-7       c-6     1828            WN    MDW  OMA       423\n...     ...        ...       ...      ...           ...    ...  ...       ...\n99995   c-5        c-4       c-3     1618            OO    SFO  RDD       199\n99996   c-1       c-18       c-3      804            CO    EWR  DAB       884\n99997   c-1       c-24       c-2     1901            NW    DTW  IAH      1076\n99998   c-4       c-27       c-4     1515            MQ    DFW  GGG       140\n99999  c-11       c-17       c-4     1800            WN    SEA  SMF       605\n\n[100000 rows x 8 columns]",
      "text/html": "<div>\n<style scoped>\n    .dataframe tbody tr th:only-of-type {\n        vertical-align: middle;\n    }\n\n    .dataframe tbody tr th {\n        vertical-align: top;\n    }\n\n    .dataframe thead th {\n        text-align: right;\n    }\n</style>\n<table border=\"1\" class=\"dataframe\">\n  <thead>\n    <tr style=\"text-align: right;\">\n      <th></th>\n      <th>Month</th>\n      <th>DayofMonth</th>\n      <th>DayOfWeek</th>\n      <th>DepTime</th>\n      <th>UniqueCarrier</th>\n      <th>Origin</th>\n      <th>Dest</th>\n      <th>Distance</th>\n    </tr>\n  </thead>\n  <tbody>\n    <tr>\n      <th>0</th>\n      <td>c-8</td>\n      <td>c-21</td>\n      <td>c-7</td>\n      <td>1934</td>\n      <td>AA</td>\n      <td>ATL</td>\n      <td>DFW</td>\n      <td>732</td>\n    </tr>\n    <tr>\n      <th>1</th>\n      <td>c-4</td>\n      <td>c-20</td>\n      <td>c-3</td>\n      <td>1548</td>\n      <td>US</td>\n      <td>PIT</td>\n      <td>MCO</td>\n      <td>834</td>\n    </tr>\n    <tr>\n      <th>2</th>\n      <td>c-9</td>\n      <td>c-2</td>\n      <td>c-5</td>\n      <td>1422</td>\n      <td>XE</td>\n      <td>RDU</td>\n      <td>CLE</td>\n      <td>416</td>\n    </tr>\n    <tr>\n      <th>3</th>\n      <td>c-11</td>\n      <td>c-25</td>\n      <td>c-6</td>\n      <td>1015</td>\n      <td>OO</td>\n      <td>DEN</td>\n      <td>MEM</td>\n      <td>872</td>\n    </tr>\n    <tr>\n      <th>4</th>\n      <td>c-10</td>\n      <td>c-7</td>\n      <td>c-6</td>\n      <td>1828</td>\n      <td>WN</td>\n      <td>MDW</td>\n      <td>OMA</td>\n      <td>423</td>\n    </tr>\n    <tr>\n      <th>...</th>\n      <td>...</td>\n      <td>...</td>\n      <td>...</td>\n      <td>...</td>\n      <td>...</td>\n      <td>...</td>\n      <td>...</td>\n      <td>...</td>\n    </tr>\n    <tr>\n      <th>99995</th>\n      <td>c-5</td>\n      <td>c-4</td>\n      <td>c-3</td>\n      <td>1618</td>\n      <td>OO</td>\n      <td>SFO</td>\n      <td>RDD</td>\n      <td>199</td>\n    </tr>\n    <tr>\n      <th>99996</th>\n      <td>c-1</td>\n      <td>c-18</td>\n      <td>c-3</td>\n      <td>804</td>\n      <td>CO</td>\n      <td>EWR</td>\n      <td>DAB</td>\n      <td>884</td>\n    </tr>\n    <tr>\n      <th>99997</th>\n      <td>c-1</td>\n      <td>c-24</td>\n      <td>c-2</td>\n      <td>1901</td>\n      <td>NW</td>\n      <td>DTW</td>\n      <td>IAH</td>\n      <td>1076</td>\n    </tr>\n    <tr>\n      <th>99998</th>\n      <td>c-4</td>\n      <td>c-27</td>\n      <td>c-4</td>\n      <td>1515</td>\n      <td>MQ</td>\n      <td>DFW</td>\n      <td>GGG</td>\n      <td>140</td>\n    </tr>\n    <tr>\n      <th>99999</th>\n      <td>c-11</td>\n      <td>c-17</td>\n      <td>c-4</td>\n      <td>1800</td>\n      <td>WN</td>\n      <td>SEA</td>\n      <td>SMF</td>\n      <td>605</td>\n    </tr>\n  </tbody>\n</table>\n<p>100000 rows × 8 columns</p>\n</div>"
     },
     "execution_count": 29,
     "metadata": {},
     "output_type": "execute_result"
    }
   ],
   "source": [
    "train"
   ],
   "metadata": {
    "collapsed": false
   }
  },
  {
   "cell_type": "code",
   "execution_count": 30,
   "outputs": [
    {
     "data": {
      "text/plain": "['DepTime', 'Distance']"
     },
     "execution_count": 30,
     "metadata": {},
     "output_type": "execute_result"
    }
   ],
   "source": [
    "num_features = list(train.columns[train.dtypes != \"object\"])\n",
    "num_features"
   ],
   "metadata": {
    "collapsed": false
   }
  },
  {
   "cell_type": "markdown",
   "source": [
    "## Сделаем всё красиво с помощью пайплайна"
   ],
   "metadata": {
    "collapsed": false
   }
  },
  {
   "cell_type": "code",
   "execution_count": 31,
   "outputs": [],
   "source": [
    "from sklearn.pipeline import Pipeline\n",
    "from sklearn.compose import ColumnTransformer\n",
    "\n",
    "std_scaler = StandardScaler()\n",
    "pipe_num = Pipeline([(\"scaler\", std_scaler)])\n",
    "\n",
    "one_hot_encoder = OneHotEncoder(handle_unknown=\"ignore\", sparse_output=False)\n",
    "pipe_cat = Pipeline([(\"encoder\", one_hot_encoder)])\n",
    "\n",
    "col_transformer = ColumnTransformer([(\"num\", pipe_num, num_features),\n",
    "                                     (\"cat\", pipe_cat, cat_features)])"
   ],
   "metadata": {
    "collapsed": false
   }
  },
  {
   "cell_type": "code",
   "execution_count": 32,
   "outputs": [],
   "source": [
    "res = col_transformer.fit_transform(train)"
   ],
   "metadata": {
    "collapsed": false
   }
  },
  {
   "cell_type": "markdown",
   "source": [
    "## Вернём названия для столбцов"
   ],
   "metadata": {
    "collapsed": false
   }
  },
  {
   "cell_type": "code",
   "execution_count": 33,
   "outputs": [
    {
     "data": {
      "text/plain": "        DepTime  Distance  Month_c-1  Month_c-10  Month_c-11  Month_c-12  \\\n0      1.243715  0.004530        0.0         0.0         0.0         0.0   \n1      0.433431  0.182040        0.0         0.0         0.0         0.0   \n2      0.168934 -0.545405        0.0         0.0         0.0         0.0   \n3     -0.685433  0.248172        0.0         0.0         1.0         0.0   \n4      1.021202 -0.533223        0.0         1.0         0.0         0.0   \n...         ...       ...        ...         ...         ...         ...   \n99995  0.580374 -0.923050        0.0         0.0         0.0         0.0   \n99996 -1.128360  0.269055        1.0         0.0         0.0         0.0   \n99997  1.174442  0.603192        1.0         0.0         0.0         0.0   \n99998  0.364158 -1.025727        0.0         0.0         0.0         0.0   \n99999  0.962425 -0.216488        0.0         0.0         1.0         0.0   \n\n       Month_c-2  Month_c-3  Month_c-4  Month_c-5  ...  Dest_TYS  Dest_VCT  \\\n0            0.0        0.0        0.0        0.0  ...       0.0       0.0   \n1            0.0        0.0        1.0        0.0  ...       0.0       0.0   \n2            0.0        0.0        0.0        0.0  ...       0.0       0.0   \n3            0.0        0.0        0.0        0.0  ...       0.0       0.0   \n4            0.0        0.0        0.0        0.0  ...       0.0       0.0   \n...          ...        ...        ...        ...  ...       ...       ...   \n99995        0.0        0.0        0.0        1.0  ...       0.0       0.0   \n99996        0.0        0.0        0.0        0.0  ...       0.0       0.0   \n99997        0.0        0.0        0.0        0.0  ...       0.0       0.0   \n99998        0.0        0.0        1.0        0.0  ...       0.0       0.0   \n99999        0.0        0.0        0.0        0.0  ...       0.0       0.0   \n\n       Dest_VIS  Dest_VLD  Dest_VPS  Dest_WRG  Dest_WYS  Dest_XNA  Dest_YAK  \\\n0           0.0       0.0       0.0       0.0       0.0       0.0       0.0   \n1           0.0       0.0       0.0       0.0       0.0       0.0       0.0   \n2           0.0       0.0       0.0       0.0       0.0       0.0       0.0   \n3           0.0       0.0       0.0       0.0       0.0       0.0       0.0   \n4           0.0       0.0       0.0       0.0       0.0       0.0       0.0   \n...         ...       ...       ...       ...       ...       ...       ...   \n99995       0.0       0.0       0.0       0.0       0.0       0.0       0.0   \n99996       0.0       0.0       0.0       0.0       0.0       0.0       0.0   \n99997       0.0       0.0       0.0       0.0       0.0       0.0       0.0   \n99998       0.0       0.0       0.0       0.0       0.0       0.0       0.0   \n99999       0.0       0.0       0.0       0.0       0.0       0.0       0.0   \n\n       Dest_YUM  \n0           0.0  \n1           0.0  \n2           0.0  \n3           0.0  \n4           0.0  \n...         ...  \n99995       0.0  \n99996       0.0  \n99997       0.0  \n99998       0.0  \n99999       0.0  \n\n[100000 rows x 652 columns]",
      "text/html": "<div>\n<style scoped>\n    .dataframe tbody tr th:only-of-type {\n        vertical-align: middle;\n    }\n\n    .dataframe tbody tr th {\n        vertical-align: top;\n    }\n\n    .dataframe thead th {\n        text-align: right;\n    }\n</style>\n<table border=\"1\" class=\"dataframe\">\n  <thead>\n    <tr style=\"text-align: right;\">\n      <th></th>\n      <th>DepTime</th>\n      <th>Distance</th>\n      <th>Month_c-1</th>\n      <th>Month_c-10</th>\n      <th>Month_c-11</th>\n      <th>Month_c-12</th>\n      <th>Month_c-2</th>\n      <th>Month_c-3</th>\n      <th>Month_c-4</th>\n      <th>Month_c-5</th>\n      <th>...</th>\n      <th>Dest_TYS</th>\n      <th>Dest_VCT</th>\n      <th>Dest_VIS</th>\n      <th>Dest_VLD</th>\n      <th>Dest_VPS</th>\n      <th>Dest_WRG</th>\n      <th>Dest_WYS</th>\n      <th>Dest_XNA</th>\n      <th>Dest_YAK</th>\n      <th>Dest_YUM</th>\n    </tr>\n  </thead>\n  <tbody>\n    <tr>\n      <th>0</th>\n      <td>1.243715</td>\n      <td>0.004530</td>\n      <td>0.0</td>\n      <td>0.0</td>\n      <td>0.0</td>\n      <td>0.0</td>\n      <td>0.0</td>\n      <td>0.0</td>\n      <td>0.0</td>\n      <td>0.0</td>\n      <td>...</td>\n      <td>0.0</td>\n      <td>0.0</td>\n      <td>0.0</td>\n      <td>0.0</td>\n      <td>0.0</td>\n      <td>0.0</td>\n      <td>0.0</td>\n      <td>0.0</td>\n      <td>0.0</td>\n      <td>0.0</td>\n    </tr>\n    <tr>\n      <th>1</th>\n      <td>0.433431</td>\n      <td>0.182040</td>\n      <td>0.0</td>\n      <td>0.0</td>\n      <td>0.0</td>\n      <td>0.0</td>\n      <td>0.0</td>\n      <td>0.0</td>\n      <td>1.0</td>\n      <td>0.0</td>\n      <td>...</td>\n      <td>0.0</td>\n      <td>0.0</td>\n      <td>0.0</td>\n      <td>0.0</td>\n      <td>0.0</td>\n      <td>0.0</td>\n      <td>0.0</td>\n      <td>0.0</td>\n      <td>0.0</td>\n      <td>0.0</td>\n    </tr>\n    <tr>\n      <th>2</th>\n      <td>0.168934</td>\n      <td>-0.545405</td>\n      <td>0.0</td>\n      <td>0.0</td>\n      <td>0.0</td>\n      <td>0.0</td>\n      <td>0.0</td>\n      <td>0.0</td>\n      <td>0.0</td>\n      <td>0.0</td>\n      <td>...</td>\n      <td>0.0</td>\n      <td>0.0</td>\n      <td>0.0</td>\n      <td>0.0</td>\n      <td>0.0</td>\n      <td>0.0</td>\n      <td>0.0</td>\n      <td>0.0</td>\n      <td>0.0</td>\n      <td>0.0</td>\n    </tr>\n    <tr>\n      <th>3</th>\n      <td>-0.685433</td>\n      <td>0.248172</td>\n      <td>0.0</td>\n      <td>0.0</td>\n      <td>1.0</td>\n      <td>0.0</td>\n      <td>0.0</td>\n      <td>0.0</td>\n      <td>0.0</td>\n      <td>0.0</td>\n      <td>...</td>\n      <td>0.0</td>\n      <td>0.0</td>\n      <td>0.0</td>\n      <td>0.0</td>\n      <td>0.0</td>\n      <td>0.0</td>\n      <td>0.0</td>\n      <td>0.0</td>\n      <td>0.0</td>\n      <td>0.0</td>\n    </tr>\n    <tr>\n      <th>4</th>\n      <td>1.021202</td>\n      <td>-0.533223</td>\n      <td>0.0</td>\n      <td>1.0</td>\n      <td>0.0</td>\n      <td>0.0</td>\n      <td>0.0</td>\n      <td>0.0</td>\n      <td>0.0</td>\n      <td>0.0</td>\n      <td>...</td>\n      <td>0.0</td>\n      <td>0.0</td>\n      <td>0.0</td>\n      <td>0.0</td>\n      <td>0.0</td>\n      <td>0.0</td>\n      <td>0.0</td>\n      <td>0.0</td>\n      <td>0.0</td>\n      <td>0.0</td>\n    </tr>\n    <tr>\n      <th>...</th>\n      <td>...</td>\n      <td>...</td>\n      <td>...</td>\n      <td>...</td>\n      <td>...</td>\n      <td>...</td>\n      <td>...</td>\n      <td>...</td>\n      <td>...</td>\n      <td>...</td>\n      <td>...</td>\n      <td>...</td>\n      <td>...</td>\n      <td>...</td>\n      <td>...</td>\n      <td>...</td>\n      <td>...</td>\n      <td>...</td>\n      <td>...</td>\n      <td>...</td>\n      <td>...</td>\n    </tr>\n    <tr>\n      <th>99995</th>\n      <td>0.580374</td>\n      <td>-0.923050</td>\n      <td>0.0</td>\n      <td>0.0</td>\n      <td>0.0</td>\n      <td>0.0</td>\n      <td>0.0</td>\n      <td>0.0</td>\n      <td>0.0</td>\n      <td>1.0</td>\n      <td>...</td>\n      <td>0.0</td>\n      <td>0.0</td>\n      <td>0.0</td>\n      <td>0.0</td>\n      <td>0.0</td>\n      <td>0.0</td>\n      <td>0.0</td>\n      <td>0.0</td>\n      <td>0.0</td>\n      <td>0.0</td>\n    </tr>\n    <tr>\n      <th>99996</th>\n      <td>-1.128360</td>\n      <td>0.269055</td>\n      <td>1.0</td>\n      <td>0.0</td>\n      <td>0.0</td>\n      <td>0.0</td>\n      <td>0.0</td>\n      <td>0.0</td>\n      <td>0.0</td>\n      <td>0.0</td>\n      <td>...</td>\n      <td>0.0</td>\n      <td>0.0</td>\n      <td>0.0</td>\n      <td>0.0</td>\n      <td>0.0</td>\n      <td>0.0</td>\n      <td>0.0</td>\n      <td>0.0</td>\n      <td>0.0</td>\n      <td>0.0</td>\n    </tr>\n    <tr>\n      <th>99997</th>\n      <td>1.174442</td>\n      <td>0.603192</td>\n      <td>1.0</td>\n      <td>0.0</td>\n      <td>0.0</td>\n      <td>0.0</td>\n      <td>0.0</td>\n      <td>0.0</td>\n      <td>0.0</td>\n      <td>0.0</td>\n      <td>...</td>\n      <td>0.0</td>\n      <td>0.0</td>\n      <td>0.0</td>\n      <td>0.0</td>\n      <td>0.0</td>\n      <td>0.0</td>\n      <td>0.0</td>\n      <td>0.0</td>\n      <td>0.0</td>\n      <td>0.0</td>\n    </tr>\n    <tr>\n      <th>99998</th>\n      <td>0.364158</td>\n      <td>-1.025727</td>\n      <td>0.0</td>\n      <td>0.0</td>\n      <td>0.0</td>\n      <td>0.0</td>\n      <td>0.0</td>\n      <td>0.0</td>\n      <td>1.0</td>\n      <td>0.0</td>\n      <td>...</td>\n      <td>0.0</td>\n      <td>0.0</td>\n      <td>0.0</td>\n      <td>0.0</td>\n      <td>0.0</td>\n      <td>0.0</td>\n      <td>0.0</td>\n      <td>0.0</td>\n      <td>0.0</td>\n      <td>0.0</td>\n    </tr>\n    <tr>\n      <th>99999</th>\n      <td>0.962425</td>\n      <td>-0.216488</td>\n      <td>0.0</td>\n      <td>0.0</td>\n      <td>1.0</td>\n      <td>0.0</td>\n      <td>0.0</td>\n      <td>0.0</td>\n      <td>0.0</td>\n      <td>0.0</td>\n      <td>...</td>\n      <td>0.0</td>\n      <td>0.0</td>\n      <td>0.0</td>\n      <td>0.0</td>\n      <td>0.0</td>\n      <td>0.0</td>\n      <td>0.0</td>\n      <td>0.0</td>\n      <td>0.0</td>\n      <td>0.0</td>\n    </tr>\n  </tbody>\n</table>\n<p>100000 rows × 652 columns</p>\n</div>"
     },
     "execution_count": 33,
     "metadata": {},
     "output_type": "execute_result"
    }
   ],
   "source": [
    "res_df = pd.DataFrame(res, columns= [col.split(\"__\")[-1] for col in col_transformer.get_feature_names_out()])\n",
    "res_df"
   ],
   "metadata": {
    "collapsed": false
   }
  },
  {
   "cell_type": "markdown",
   "source": [
    "## Можно добавить модель и параметры к ней через \"model__param=\""
   ],
   "metadata": {
    "collapsed": false
   }
  },
  {
   "cell_type": "code",
   "execution_count": 34,
   "outputs": [
    {
     "data": {
      "text/plain": "Pipeline(steps=[('preproc',\n                 ColumnTransformer(transformers=[('num',\n                                                  Pipeline(steps=[('scaler',\n                                                                   StandardScaler())]),\n                                                  ['DepTime', 'Distance']),\n                                                 ('cat',\n                                                  Pipeline(steps=[('encoder',\n                                                                   OneHotEncoder(handle_unknown='ignore',\n                                                                                 sparse_output=False))]),\n                                                  ['Month', 'DayofMonth',\n                                                   'DayOfWeek', 'UniqueCarrier',\n                                                   'Origin', 'Dest'])])),\n                ('rf', RandomForestClassifier(n_estimators=1, n_jobs=-1))])",
      "text/html": "<style>#sk-container-id-1 {\n  /* Definition of color scheme common for light and dark mode */\n  --sklearn-color-text: black;\n  --sklearn-color-line: gray;\n  /* Definition of color scheme for unfitted estimators */\n  --sklearn-color-unfitted-level-0: #fff5e6;\n  --sklearn-color-unfitted-level-1: #f6e4d2;\n  --sklearn-color-unfitted-level-2: #ffe0b3;\n  --sklearn-color-unfitted-level-3: chocolate;\n  /* Definition of color scheme for fitted estimators */\n  --sklearn-color-fitted-level-0: #f0f8ff;\n  --sklearn-color-fitted-level-1: #d4ebff;\n  --sklearn-color-fitted-level-2: #b3dbfd;\n  --sklearn-color-fitted-level-3: cornflowerblue;\n\n  /* Specific color for light theme */\n  --sklearn-color-text-on-default-background: var(--sg-text-color, var(--theme-code-foreground, var(--jp-content-font-color1, black)));\n  --sklearn-color-background: var(--sg-background-color, var(--theme-background, var(--jp-layout-color0, white)));\n  --sklearn-color-border-box: var(--sg-text-color, var(--theme-code-foreground, var(--jp-content-font-color1, black)));\n  --sklearn-color-icon: #696969;\n\n  @media (prefers-color-scheme: dark) {\n    /* Redefinition of color scheme for dark theme */\n    --sklearn-color-text-on-default-background: var(--sg-text-color, var(--theme-code-foreground, var(--jp-content-font-color1, white)));\n    --sklearn-color-background: var(--sg-background-color, var(--theme-background, var(--jp-layout-color0, #111)));\n    --sklearn-color-border-box: var(--sg-text-color, var(--theme-code-foreground, var(--jp-content-font-color1, white)));\n    --sklearn-color-icon: #878787;\n  }\n}\n\n#sk-container-id-1 {\n  color: var(--sklearn-color-text);\n}\n\n#sk-container-id-1 pre {\n  padding: 0;\n}\n\n#sk-container-id-1 input.sk-hidden--visually {\n  border: 0;\n  clip: rect(1px 1px 1px 1px);\n  clip: rect(1px, 1px, 1px, 1px);\n  height: 1px;\n  margin: -1px;\n  overflow: hidden;\n  padding: 0;\n  position: absolute;\n  width: 1px;\n}\n\n#sk-container-id-1 div.sk-dashed-wrapped {\n  border: 1px dashed var(--sklearn-color-line);\n  margin: 0 0.4em 0.5em 0.4em;\n  box-sizing: border-box;\n  padding-bottom: 0.4em;\n  background-color: var(--sklearn-color-background);\n}\n\n#sk-container-id-1 div.sk-container {\n  /* jupyter's `normalize.less` sets `[hidden] { display: none; }`\n     but bootstrap.min.css set `[hidden] { display: none !important; }`\n     so we also need the `!important` here to be able to override the\n     default hidden behavior on the sphinx rendered scikit-learn.org.\n     See: https://github.com/scikit-learn/scikit-learn/issues/21755 */\n  display: inline-block !important;\n  position: relative;\n}\n\n#sk-container-id-1 div.sk-text-repr-fallback {\n  display: none;\n}\n\ndiv.sk-parallel-item,\ndiv.sk-serial,\ndiv.sk-item {\n  /* draw centered vertical line to link estimators */\n  background-image: linear-gradient(var(--sklearn-color-text-on-default-background), var(--sklearn-color-text-on-default-background));\n  background-size: 2px 100%;\n  background-repeat: no-repeat;\n  background-position: center center;\n}\n\n/* Parallel-specific style estimator block */\n\n#sk-container-id-1 div.sk-parallel-item::after {\n  content: \"\";\n  width: 100%;\n  border-bottom: 2px solid var(--sklearn-color-text-on-default-background);\n  flex-grow: 1;\n}\n\n#sk-container-id-1 div.sk-parallel {\n  display: flex;\n  align-items: stretch;\n  justify-content: center;\n  background-color: var(--sklearn-color-background);\n  position: relative;\n}\n\n#sk-container-id-1 div.sk-parallel-item {\n  display: flex;\n  flex-direction: column;\n}\n\n#sk-container-id-1 div.sk-parallel-item:first-child::after {\n  align-self: flex-end;\n  width: 50%;\n}\n\n#sk-container-id-1 div.sk-parallel-item:last-child::after {\n  align-self: flex-start;\n  width: 50%;\n}\n\n#sk-container-id-1 div.sk-parallel-item:only-child::after {\n  width: 0;\n}\n\n/* Serial-specific style estimator block */\n\n#sk-container-id-1 div.sk-serial {\n  display: flex;\n  flex-direction: column;\n  align-items: center;\n  background-color: var(--sklearn-color-background);\n  padding-right: 1em;\n  padding-left: 1em;\n}\n\n\n/* Toggleable style: style used for estimator/Pipeline/ColumnTransformer box that is\nclickable and can be expanded/collapsed.\n- Pipeline and ColumnTransformer use this feature and define the default style\n- Estimators will overwrite some part of the style using the `sk-estimator` class\n*/\n\n/* Pipeline and ColumnTransformer style (default) */\n\n#sk-container-id-1 div.sk-toggleable {\n  /* Default theme specific background. It is overwritten whether we have a\n  specific estimator or a Pipeline/ColumnTransformer */\n  background-color: var(--sklearn-color-background);\n}\n\n/* Toggleable label */\n#sk-container-id-1 label.sk-toggleable__label {\n  cursor: pointer;\n  display: block;\n  width: 100%;\n  margin-bottom: 0;\n  padding: 0.5em;\n  box-sizing: border-box;\n  text-align: center;\n}\n\n#sk-container-id-1 label.sk-toggleable__label-arrow:before {\n  /* Arrow on the left of the label */\n  content: \"▸\";\n  float: left;\n  margin-right: 0.25em;\n  color: var(--sklearn-color-icon);\n}\n\n#sk-container-id-1 label.sk-toggleable__label-arrow:hover:before {\n  color: var(--sklearn-color-text);\n}\n\n/* Toggleable content - dropdown */\n\n#sk-container-id-1 div.sk-toggleable__content {\n  max-height: 0;\n  max-width: 0;\n  overflow: hidden;\n  text-align: left;\n  /* unfitted */\n  background-color: var(--sklearn-color-unfitted-level-0);\n}\n\n#sk-container-id-1 div.sk-toggleable__content.fitted {\n  /* fitted */\n  background-color: var(--sklearn-color-fitted-level-0);\n}\n\n#sk-container-id-1 div.sk-toggleable__content pre {\n  margin: 0.2em;\n  border-radius: 0.25em;\n  color: var(--sklearn-color-text);\n  /* unfitted */\n  background-color: var(--sklearn-color-unfitted-level-0);\n}\n\n#sk-container-id-1 div.sk-toggleable__content.fitted pre {\n  /* unfitted */\n  background-color: var(--sklearn-color-fitted-level-0);\n}\n\n#sk-container-id-1 input.sk-toggleable__control:checked~div.sk-toggleable__content {\n  /* Expand drop-down */\n  max-height: 200px;\n  max-width: 100%;\n  overflow: auto;\n}\n\n#sk-container-id-1 input.sk-toggleable__control:checked~label.sk-toggleable__label-arrow:before {\n  content: \"▾\";\n}\n\n/* Pipeline/ColumnTransformer-specific style */\n\n#sk-container-id-1 div.sk-label input.sk-toggleable__control:checked~label.sk-toggleable__label {\n  color: var(--sklearn-color-text);\n  background-color: var(--sklearn-color-unfitted-level-2);\n}\n\n#sk-container-id-1 div.sk-label.fitted input.sk-toggleable__control:checked~label.sk-toggleable__label {\n  background-color: var(--sklearn-color-fitted-level-2);\n}\n\n/* Estimator-specific style */\n\n/* Colorize estimator box */\n#sk-container-id-1 div.sk-estimator input.sk-toggleable__control:checked~label.sk-toggleable__label {\n  /* unfitted */\n  background-color: var(--sklearn-color-unfitted-level-2);\n}\n\n#sk-container-id-1 div.sk-estimator.fitted input.sk-toggleable__control:checked~label.sk-toggleable__label {\n  /* fitted */\n  background-color: var(--sklearn-color-fitted-level-2);\n}\n\n#sk-container-id-1 div.sk-label label.sk-toggleable__label,\n#sk-container-id-1 div.sk-label label {\n  /* The background is the default theme color */\n  color: var(--sklearn-color-text-on-default-background);\n}\n\n/* On hover, darken the color of the background */\n#sk-container-id-1 div.sk-label:hover label.sk-toggleable__label {\n  color: var(--sklearn-color-text);\n  background-color: var(--sklearn-color-unfitted-level-2);\n}\n\n/* Label box, darken color on hover, fitted */\n#sk-container-id-1 div.sk-label.fitted:hover label.sk-toggleable__label.fitted {\n  color: var(--sklearn-color-text);\n  background-color: var(--sklearn-color-fitted-level-2);\n}\n\n/* Estimator label */\n\n#sk-container-id-1 div.sk-label label {\n  font-family: monospace;\n  font-weight: bold;\n  display: inline-block;\n  line-height: 1.2em;\n}\n\n#sk-container-id-1 div.sk-label-container {\n  text-align: center;\n}\n\n/* Estimator-specific */\n#sk-container-id-1 div.sk-estimator {\n  font-family: monospace;\n  border: 1px dotted var(--sklearn-color-border-box);\n  border-radius: 0.25em;\n  box-sizing: border-box;\n  margin-bottom: 0.5em;\n  /* unfitted */\n  background-color: var(--sklearn-color-unfitted-level-0);\n}\n\n#sk-container-id-1 div.sk-estimator.fitted {\n  /* fitted */\n  background-color: var(--sklearn-color-fitted-level-0);\n}\n\n/* on hover */\n#sk-container-id-1 div.sk-estimator:hover {\n  /* unfitted */\n  background-color: var(--sklearn-color-unfitted-level-2);\n}\n\n#sk-container-id-1 div.sk-estimator.fitted:hover {\n  /* fitted */\n  background-color: var(--sklearn-color-fitted-level-2);\n}\n\n/* Specification for estimator info (e.g. \"i\" and \"?\") */\n\n/* Common style for \"i\" and \"?\" */\n\n.sk-estimator-doc-link,\na:link.sk-estimator-doc-link,\na:visited.sk-estimator-doc-link {\n  float: right;\n  font-size: smaller;\n  line-height: 1em;\n  font-family: monospace;\n  background-color: var(--sklearn-color-background);\n  border-radius: 1em;\n  height: 1em;\n  width: 1em;\n  text-decoration: none !important;\n  margin-left: 1ex;\n  /* unfitted */\n  border: var(--sklearn-color-unfitted-level-1) 1pt solid;\n  color: var(--sklearn-color-unfitted-level-1);\n}\n\n.sk-estimator-doc-link.fitted,\na:link.sk-estimator-doc-link.fitted,\na:visited.sk-estimator-doc-link.fitted {\n  /* fitted */\n  border: var(--sklearn-color-fitted-level-1) 1pt solid;\n  color: var(--sklearn-color-fitted-level-1);\n}\n\n/* On hover */\ndiv.sk-estimator:hover .sk-estimator-doc-link:hover,\n.sk-estimator-doc-link:hover,\ndiv.sk-label-container:hover .sk-estimator-doc-link:hover,\n.sk-estimator-doc-link:hover {\n  /* unfitted */\n  background-color: var(--sklearn-color-unfitted-level-3);\n  color: var(--sklearn-color-background);\n  text-decoration: none;\n}\n\ndiv.sk-estimator.fitted:hover .sk-estimator-doc-link.fitted:hover,\n.sk-estimator-doc-link.fitted:hover,\ndiv.sk-label-container:hover .sk-estimator-doc-link.fitted:hover,\n.sk-estimator-doc-link.fitted:hover {\n  /* fitted */\n  background-color: var(--sklearn-color-fitted-level-3);\n  color: var(--sklearn-color-background);\n  text-decoration: none;\n}\n\n/* Span, style for the box shown on hovering the info icon */\n.sk-estimator-doc-link span {\n  display: none;\n  z-index: 9999;\n  position: relative;\n  font-weight: normal;\n  right: .2ex;\n  padding: .5ex;\n  margin: .5ex;\n  width: min-content;\n  min-width: 20ex;\n  max-width: 50ex;\n  color: var(--sklearn-color-text);\n  box-shadow: 2pt 2pt 4pt #999;\n  /* unfitted */\n  background: var(--sklearn-color-unfitted-level-0);\n  border: .5pt solid var(--sklearn-color-unfitted-level-3);\n}\n\n.sk-estimator-doc-link.fitted span {\n  /* fitted */\n  background: var(--sklearn-color-fitted-level-0);\n  border: var(--sklearn-color-fitted-level-3);\n}\n\n.sk-estimator-doc-link:hover span {\n  display: block;\n}\n\n/* \"?\"-specific style due to the `<a>` HTML tag */\n\n#sk-container-id-1 a.estimator_doc_link {\n  float: right;\n  font-size: 1rem;\n  line-height: 1em;\n  font-family: monospace;\n  background-color: var(--sklearn-color-background);\n  border-radius: 1rem;\n  height: 1rem;\n  width: 1rem;\n  text-decoration: none;\n  /* unfitted */\n  color: var(--sklearn-color-unfitted-level-1);\n  border: var(--sklearn-color-unfitted-level-1) 1pt solid;\n}\n\n#sk-container-id-1 a.estimator_doc_link.fitted {\n  /* fitted */\n  border: var(--sklearn-color-fitted-level-1) 1pt solid;\n  color: var(--sklearn-color-fitted-level-1);\n}\n\n/* On hover */\n#sk-container-id-1 a.estimator_doc_link:hover {\n  /* unfitted */\n  background-color: var(--sklearn-color-unfitted-level-3);\n  color: var(--sklearn-color-background);\n  text-decoration: none;\n}\n\n#sk-container-id-1 a.estimator_doc_link.fitted:hover {\n  /* fitted */\n  background-color: var(--sklearn-color-fitted-level-3);\n}\n</style><div id=\"sk-container-id-1\" class=\"sk-top-container\"><div class=\"sk-text-repr-fallback\"><pre>Pipeline(steps=[(&#x27;preproc&#x27;,\n                 ColumnTransformer(transformers=[(&#x27;num&#x27;,\n                                                  Pipeline(steps=[(&#x27;scaler&#x27;,\n                                                                   StandardScaler())]),\n                                                  [&#x27;DepTime&#x27;, &#x27;Distance&#x27;]),\n                                                 (&#x27;cat&#x27;,\n                                                  Pipeline(steps=[(&#x27;encoder&#x27;,\n                                                                   OneHotEncoder(handle_unknown=&#x27;ignore&#x27;,\n                                                                                 sparse_output=False))]),\n                                                  [&#x27;Month&#x27;, &#x27;DayofMonth&#x27;,\n                                                   &#x27;DayOfWeek&#x27;, &#x27;UniqueCarrier&#x27;,\n                                                   &#x27;Origin&#x27;, &#x27;Dest&#x27;])])),\n                (&#x27;rf&#x27;, RandomForestClassifier(n_estimators=1, n_jobs=-1))])</pre><b>In a Jupyter environment, please rerun this cell to show the HTML representation or trust the notebook. <br />On GitHub, the HTML representation is unable to render, please try loading this page with nbviewer.org.</b></div><div class=\"sk-container\" hidden><div class=\"sk-item sk-dashed-wrapped\"><div class=\"sk-label-container\"><div class=\"sk-label fitted sk-toggleable\"><input class=\"sk-toggleable__control sk-hidden--visually\" id=\"sk-estimator-id-1\" type=\"checkbox\" ><label for=\"sk-estimator-id-1\" class=\"sk-toggleable__label fitted sk-toggleable__label-arrow fitted\">&nbsp;&nbsp;Pipeline<a class=\"sk-estimator-doc-link fitted\" rel=\"noreferrer\" target=\"_blank\" href=\"https://scikit-learn.org/1.5/modules/generated/sklearn.pipeline.Pipeline.html\">?<span>Documentation for Pipeline</span></a><span class=\"sk-estimator-doc-link fitted\">i<span>Fitted</span></span></label><div class=\"sk-toggleable__content fitted\"><pre>Pipeline(steps=[(&#x27;preproc&#x27;,\n                 ColumnTransformer(transformers=[(&#x27;num&#x27;,\n                                                  Pipeline(steps=[(&#x27;scaler&#x27;,\n                                                                   StandardScaler())]),\n                                                  [&#x27;DepTime&#x27;, &#x27;Distance&#x27;]),\n                                                 (&#x27;cat&#x27;,\n                                                  Pipeline(steps=[(&#x27;encoder&#x27;,\n                                                                   OneHotEncoder(handle_unknown=&#x27;ignore&#x27;,\n                                                                                 sparse_output=False))]),\n                                                  [&#x27;Month&#x27;, &#x27;DayofMonth&#x27;,\n                                                   &#x27;DayOfWeek&#x27;, &#x27;UniqueCarrier&#x27;,\n                                                   &#x27;Origin&#x27;, &#x27;Dest&#x27;])])),\n                (&#x27;rf&#x27;, RandomForestClassifier(n_estimators=1, n_jobs=-1))])</pre></div> </div></div><div class=\"sk-serial\"><div class=\"sk-item sk-dashed-wrapped\"><div class=\"sk-label-container\"><div class=\"sk-label fitted sk-toggleable\"><input class=\"sk-toggleable__control sk-hidden--visually\" id=\"sk-estimator-id-2\" type=\"checkbox\" ><label for=\"sk-estimator-id-2\" class=\"sk-toggleable__label fitted sk-toggleable__label-arrow fitted\">&nbsp;preproc: ColumnTransformer<a class=\"sk-estimator-doc-link fitted\" rel=\"noreferrer\" target=\"_blank\" href=\"https://scikit-learn.org/1.5/modules/generated/sklearn.compose.ColumnTransformer.html\">?<span>Documentation for preproc: ColumnTransformer</span></a></label><div class=\"sk-toggleable__content fitted\"><pre>ColumnTransformer(transformers=[(&#x27;num&#x27;,\n                                 Pipeline(steps=[(&#x27;scaler&#x27;, StandardScaler())]),\n                                 [&#x27;DepTime&#x27;, &#x27;Distance&#x27;]),\n                                (&#x27;cat&#x27;,\n                                 Pipeline(steps=[(&#x27;encoder&#x27;,\n                                                  OneHotEncoder(handle_unknown=&#x27;ignore&#x27;,\n                                                                sparse_output=False))]),\n                                 [&#x27;Month&#x27;, &#x27;DayofMonth&#x27;, &#x27;DayOfWeek&#x27;,\n                                  &#x27;UniqueCarrier&#x27;, &#x27;Origin&#x27;, &#x27;Dest&#x27;])])</pre></div> </div></div><div class=\"sk-parallel\"><div class=\"sk-parallel-item\"><div class=\"sk-item\"><div class=\"sk-label-container\"><div class=\"sk-label fitted sk-toggleable\"><input class=\"sk-toggleable__control sk-hidden--visually\" id=\"sk-estimator-id-3\" type=\"checkbox\" ><label for=\"sk-estimator-id-3\" class=\"sk-toggleable__label fitted sk-toggleable__label-arrow fitted\">num</label><div class=\"sk-toggleable__content fitted\"><pre>[&#x27;DepTime&#x27;, &#x27;Distance&#x27;]</pre></div> </div></div><div class=\"sk-serial\"><div class=\"sk-item\"><div class=\"sk-serial\"><div class=\"sk-item\"><div class=\"sk-estimator fitted sk-toggleable\"><input class=\"sk-toggleable__control sk-hidden--visually\" id=\"sk-estimator-id-4\" type=\"checkbox\" ><label for=\"sk-estimator-id-4\" class=\"sk-toggleable__label fitted sk-toggleable__label-arrow fitted\">&nbsp;StandardScaler<a class=\"sk-estimator-doc-link fitted\" rel=\"noreferrer\" target=\"_blank\" href=\"https://scikit-learn.org/1.5/modules/generated/sklearn.preprocessing.StandardScaler.html\">?<span>Documentation for StandardScaler</span></a></label><div class=\"sk-toggleable__content fitted\"><pre>StandardScaler()</pre></div> </div></div></div></div></div></div></div><div class=\"sk-parallel-item\"><div class=\"sk-item\"><div class=\"sk-label-container\"><div class=\"sk-label fitted sk-toggleable\"><input class=\"sk-toggleable__control sk-hidden--visually\" id=\"sk-estimator-id-5\" type=\"checkbox\" ><label for=\"sk-estimator-id-5\" class=\"sk-toggleable__label fitted sk-toggleable__label-arrow fitted\">cat</label><div class=\"sk-toggleable__content fitted\"><pre>[&#x27;Month&#x27;, &#x27;DayofMonth&#x27;, &#x27;DayOfWeek&#x27;, &#x27;UniqueCarrier&#x27;, &#x27;Origin&#x27;, &#x27;Dest&#x27;]</pre></div> </div></div><div class=\"sk-serial\"><div class=\"sk-item\"><div class=\"sk-serial\"><div class=\"sk-item\"><div class=\"sk-estimator fitted sk-toggleable\"><input class=\"sk-toggleable__control sk-hidden--visually\" id=\"sk-estimator-id-6\" type=\"checkbox\" ><label for=\"sk-estimator-id-6\" class=\"sk-toggleable__label fitted sk-toggleable__label-arrow fitted\">&nbsp;OneHotEncoder<a class=\"sk-estimator-doc-link fitted\" rel=\"noreferrer\" target=\"_blank\" href=\"https://scikit-learn.org/1.5/modules/generated/sklearn.preprocessing.OneHotEncoder.html\">?<span>Documentation for OneHotEncoder</span></a></label><div class=\"sk-toggleable__content fitted\"><pre>OneHotEncoder(handle_unknown=&#x27;ignore&#x27;, sparse_output=False)</pre></div> </div></div></div></div></div></div></div></div></div><div class=\"sk-item\"><div class=\"sk-estimator fitted sk-toggleable\"><input class=\"sk-toggleable__control sk-hidden--visually\" id=\"sk-estimator-id-7\" type=\"checkbox\" ><label for=\"sk-estimator-id-7\" class=\"sk-toggleable__label fitted sk-toggleable__label-arrow fitted\">&nbsp;RandomForestClassifier<a class=\"sk-estimator-doc-link fitted\" rel=\"noreferrer\" target=\"_blank\" href=\"https://scikit-learn.org/1.5/modules/generated/sklearn.ensemble.RandomForestClassifier.html\">?<span>Documentation for RandomForestClassifier</span></a></label><div class=\"sk-toggleable__content fitted\"><pre>RandomForestClassifier(n_estimators=1, n_jobs=-1)</pre></div> </div></div></div></div></div></div>"
     },
     "execution_count": 34,
     "metadata": {},
     "output_type": "execute_result"
    }
   ],
   "source": [
    "model1 = Pipeline([(\"preproc\", col_transformer),\n",
    "                   (\"rf\", RandomForestClassifier(n_jobs=-1))])\n",
    "\n",
    "model1.set_params(rf__n_estimators=1)\n",
    "t = model1.fit(train, y)\n",
    "t"
   ],
   "metadata": {
    "collapsed": false
   }
  },
  {
   "cell_type": "code",
   "execution_count": 35,
   "outputs": [],
   "source": [
    "train_new = train.copy()\n",
    "test_new = test.copy()"
   ],
   "metadata": {
    "collapsed": false
   }
  },
  {
   "cell_type": "code",
   "execution_count": 36,
   "outputs": [],
   "source": [
    "train_new[\"Route\"] = train_new[\"Origin\"] +\"_\"+ train_new[\"Dest\"]\n",
    "test_new[\"Route\"] = test_new[\"Origin\"] +\"_\"+ test_new[\"Dest\"]"
   ],
   "metadata": {
    "collapsed": false
   }
  },
  {
   "cell_type": "code",
   "execution_count": 37,
   "outputs": [
    {
     "data": {
      "text/plain": "      Month DayofMonth DayOfWeek  DepTime UniqueCarrier  Distance    Route\n0       c-7       c-25       c-3      615            YV       598  MRY_PHX\n1       c-4       c-17       c-2      739            WN      1235  LAS_HOU\n2      c-12        c-2       c-7      651            MQ       577  GSP_ORD\n3       c-3       c-25       c-7     1614            WN       377  BWI_MHT\n4       c-6        c-6       c-3     1505            UA       258  ORD_STL\n...     ...        ...       ...      ...           ...       ...      ...\n99995   c-6        c-5       c-2      852            WN       187  CRP_HOU\n99996  c-11       c-24       c-6     1446            UA      1515  ORD_LAS\n99997   c-1       c-30       c-2     1509            OO       438  ORD_SGF\n99998   c-1        c-5       c-5      804            DL       761  LGA_ATL\n99999  c-10       c-29       c-1      834            OO       297  MKE_MSP\n\n[100000 rows x 7 columns]",
      "text/html": "<div>\n<style scoped>\n    .dataframe tbody tr th:only-of-type {\n        vertical-align: middle;\n    }\n\n    .dataframe tbody tr th {\n        vertical-align: top;\n    }\n\n    .dataframe thead th {\n        text-align: right;\n    }\n</style>\n<table border=\"1\" class=\"dataframe\">\n  <thead>\n    <tr style=\"text-align: right;\">\n      <th></th>\n      <th>Month</th>\n      <th>DayofMonth</th>\n      <th>DayOfWeek</th>\n      <th>DepTime</th>\n      <th>UniqueCarrier</th>\n      <th>Distance</th>\n      <th>Route</th>\n    </tr>\n  </thead>\n  <tbody>\n    <tr>\n      <th>0</th>\n      <td>c-7</td>\n      <td>c-25</td>\n      <td>c-3</td>\n      <td>615</td>\n      <td>YV</td>\n      <td>598</td>\n      <td>MRY_PHX</td>\n    </tr>\n    <tr>\n      <th>1</th>\n      <td>c-4</td>\n      <td>c-17</td>\n      <td>c-2</td>\n      <td>739</td>\n      <td>WN</td>\n      <td>1235</td>\n      <td>LAS_HOU</td>\n    </tr>\n    <tr>\n      <th>2</th>\n      <td>c-12</td>\n      <td>c-2</td>\n      <td>c-7</td>\n      <td>651</td>\n      <td>MQ</td>\n      <td>577</td>\n      <td>GSP_ORD</td>\n    </tr>\n    <tr>\n      <th>3</th>\n      <td>c-3</td>\n      <td>c-25</td>\n      <td>c-7</td>\n      <td>1614</td>\n      <td>WN</td>\n      <td>377</td>\n      <td>BWI_MHT</td>\n    </tr>\n    <tr>\n      <th>4</th>\n      <td>c-6</td>\n      <td>c-6</td>\n      <td>c-3</td>\n      <td>1505</td>\n      <td>UA</td>\n      <td>258</td>\n      <td>ORD_STL</td>\n    </tr>\n    <tr>\n      <th>...</th>\n      <td>...</td>\n      <td>...</td>\n      <td>...</td>\n      <td>...</td>\n      <td>...</td>\n      <td>...</td>\n      <td>...</td>\n    </tr>\n    <tr>\n      <th>99995</th>\n      <td>c-6</td>\n      <td>c-5</td>\n      <td>c-2</td>\n      <td>852</td>\n      <td>WN</td>\n      <td>187</td>\n      <td>CRP_HOU</td>\n    </tr>\n    <tr>\n      <th>99996</th>\n      <td>c-11</td>\n      <td>c-24</td>\n      <td>c-6</td>\n      <td>1446</td>\n      <td>UA</td>\n      <td>1515</td>\n      <td>ORD_LAS</td>\n    </tr>\n    <tr>\n      <th>99997</th>\n      <td>c-1</td>\n      <td>c-30</td>\n      <td>c-2</td>\n      <td>1509</td>\n      <td>OO</td>\n      <td>438</td>\n      <td>ORD_SGF</td>\n    </tr>\n    <tr>\n      <th>99998</th>\n      <td>c-1</td>\n      <td>c-5</td>\n      <td>c-5</td>\n      <td>804</td>\n      <td>DL</td>\n      <td>761</td>\n      <td>LGA_ATL</td>\n    </tr>\n    <tr>\n      <th>99999</th>\n      <td>c-10</td>\n      <td>c-29</td>\n      <td>c-1</td>\n      <td>834</td>\n      <td>OO</td>\n      <td>297</td>\n      <td>MKE_MSP</td>\n    </tr>\n  </tbody>\n</table>\n<p>100000 rows × 7 columns</p>\n</div>"
     },
     "execution_count": 37,
     "metadata": {},
     "output_type": "execute_result"
    }
   ],
   "source": [
    "train_new.drop([\"Origin\", \"Dest\"], axis=1)\n",
    "test_new.drop([\"Origin\", \"Dest\"], axis=1)"
   ],
   "metadata": {
    "collapsed": false
   }
  },
  {
   "cell_type": "code",
   "execution_count": 38,
   "outputs": [],
   "source": [
    "train_new = col_transformer.fit_transform(train_new)\n",
    "test_new = col_transformer.transform(test_new)"
   ],
   "metadata": {
    "collapsed": false
   }
  },
  {
   "cell_type": "code",
   "execution_count": 39,
   "outputs": [],
   "source": [
    "X_train_new, X_valid_new, y_train_new, y_valid_new = train_test_split(train_new, y, test_size=0.3, stratify=y, shuffle=True)"
   ],
   "metadata": {
    "collapsed": false
   }
  },
  {
   "cell_type": "code",
   "execution_count": 40,
   "outputs": [
    {
     "name": "stderr",
     "output_type": "stream",
     "text": [
      "D:\\Programms\\PyCharm 2022.3.1\\saves\\edu_project\\venv\\Lib\\site-packages\\xgboost\\core.py:723: FutureWarning: Pass `evals` as keyword args.\n",
      "  warnings.warn(msg, FutureWarning)\n"
     ]
    },
    {
     "name": "stdout",
     "output_type": "stream",
     "text": [
      "[0]\tvalid-auc:0.63669\ttrain-auc:0.63043\n",
      "[1]\tvalid-auc:0.64932\ttrain-auc:0.64454\n",
      "[2]\tvalid-auc:0.67061\ttrain-auc:0.66557\n",
      "[3]\tvalid-auc:0.67688\ttrain-auc:0.67241\n",
      "[4]\tvalid-auc:0.68155\ttrain-auc:0.67678\n",
      "[5]\tvalid-auc:0.68823\ttrain-auc:0.68511\n",
      "[6]\tvalid-auc:0.68824\ttrain-auc:0.68484\n",
      "[7]\tvalid-auc:0.68939\ttrain-auc:0.68639\n",
      "[8]\tvalid-auc:0.68936\ttrain-auc:0.68638\n",
      "[9]\tvalid-auc:0.68963\ttrain-auc:0.68657\n",
      "[10]\tvalid-auc:0.69065\ttrain-auc:0.68796\n",
      "[11]\tvalid-auc:0.69171\ttrain-auc:0.68903\n",
      "[12]\tvalid-auc:0.69277\ttrain-auc:0.68964\n",
      "[13]\tvalid-auc:0.69386\ttrain-auc:0.69113\n",
      "[14]\tvalid-auc:0.69539\ttrain-auc:0.69308\n",
      "[15]\tvalid-auc:0.69664\ttrain-auc:0.69475\n",
      "[16]\tvalid-auc:0.69669\ttrain-auc:0.69474\n",
      "[17]\tvalid-auc:0.69707\ttrain-auc:0.69532\n",
      "[18]\tvalid-auc:0.69701\ttrain-auc:0.69521\n",
      "[19]\tvalid-auc:0.69835\ttrain-auc:0.69656\n",
      "[20]\tvalid-auc:0.69922\ttrain-auc:0.69764\n",
      "[21]\tvalid-auc:0.70026\ttrain-auc:0.69861\n",
      "[22]\tvalid-auc:0.70069\ttrain-auc:0.69929\n",
      "[23]\tvalid-auc:0.70065\ttrain-auc:0.69924\n",
      "[24]\tvalid-auc:0.70076\ttrain-auc:0.69942\n",
      "[25]\tvalid-auc:0.70149\ttrain-auc:0.70016\n",
      "[26]\tvalid-auc:0.70239\ttrain-auc:0.70077\n",
      "[27]\tvalid-auc:0.70327\ttrain-auc:0.70176\n",
      "[28]\tvalid-auc:0.70399\ttrain-auc:0.70259\n",
      "[29]\tvalid-auc:0.70388\ttrain-auc:0.70235\n",
      "[30]\tvalid-auc:0.70401\ttrain-auc:0.70269\n",
      "[31]\tvalid-auc:0.70410\ttrain-auc:0.70293\n",
      "[32]\tvalid-auc:0.70464\ttrain-auc:0.70369\n",
      "[33]\tvalid-auc:0.70476\ttrain-auc:0.70416\n",
      "[34]\tvalid-auc:0.70515\ttrain-auc:0.70460\n",
      "[35]\tvalid-auc:0.70583\ttrain-auc:0.70504\n",
      "[36]\tvalid-auc:0.70617\ttrain-auc:0.70541\n",
      "[37]\tvalid-auc:0.70667\ttrain-auc:0.70594\n",
      "[38]\tvalid-auc:0.70669\ttrain-auc:0.70592\n",
      "[39]\tvalid-auc:0.70670\ttrain-auc:0.70597\n",
      "[40]\tvalid-auc:0.70653\ttrain-auc:0.70582\n",
      "[41]\tvalid-auc:0.70678\ttrain-auc:0.70615\n",
      "[42]\tvalid-auc:0.70736\ttrain-auc:0.70669\n",
      "[43]\tvalid-auc:0.70776\ttrain-auc:0.70712\n",
      "[44]\tvalid-auc:0.70803\ttrain-auc:0.70749\n",
      "[45]\tvalid-auc:0.70839\ttrain-auc:0.70791\n",
      "[46]\tvalid-auc:0.70859\ttrain-auc:0.70826\n",
      "[47]\tvalid-auc:0.70880\ttrain-auc:0.70860\n",
      "[48]\tvalid-auc:0.70918\ttrain-auc:0.70901\n",
      "[49]\tvalid-auc:0.70953\ttrain-auc:0.70935\n",
      "[50]\tvalid-auc:0.70957\ttrain-auc:0.70937\n",
      "[51]\tvalid-auc:0.71004\ttrain-auc:0.70959\n",
      "[52]\tvalid-auc:0.71042\ttrain-auc:0.70983\n",
      "[53]\tvalid-auc:0.71058\ttrain-auc:0.71006\n",
      "[54]\tvalid-auc:0.71057\ttrain-auc:0.71009\n",
      "[55]\tvalid-auc:0.71059\ttrain-auc:0.71026\n",
      "[56]\tvalid-auc:0.71071\ttrain-auc:0.71061\n",
      "[57]\tvalid-auc:0.71118\ttrain-auc:0.71094\n",
      "[58]\tvalid-auc:0.71146\ttrain-auc:0.71125\n",
      "[59]\tvalid-auc:0.71158\ttrain-auc:0.71145\n",
      "[60]\tvalid-auc:0.71160\ttrain-auc:0.71147\n",
      "[61]\tvalid-auc:0.71174\ttrain-auc:0.71174\n",
      "[62]\tvalid-auc:0.71191\ttrain-auc:0.71195\n",
      "[63]\tvalid-auc:0.71216\ttrain-auc:0.71220\n",
      "[64]\tvalid-auc:0.71235\ttrain-auc:0.71245\n",
      "[65]\tvalid-auc:0.71260\ttrain-auc:0.71266\n",
      "[66]\tvalid-auc:0.71248\ttrain-auc:0.71252\n",
      "[67]\tvalid-auc:0.71258\ttrain-auc:0.71266\n",
      "[68]\tvalid-auc:0.71277\ttrain-auc:0.71284\n",
      "[69]\tvalid-auc:0.71269\ttrain-auc:0.71290\n",
      "[70]\tvalid-auc:0.71282\ttrain-auc:0.71308\n",
      "[71]\tvalid-auc:0.71295\ttrain-auc:0.71329\n",
      "[72]\tvalid-auc:0.71304\ttrain-auc:0.71351\n",
      "[73]\tvalid-auc:0.71311\ttrain-auc:0.71371\n",
      "[74]\tvalid-auc:0.71335\ttrain-auc:0.71397\n",
      "[75]\tvalid-auc:0.71341\ttrain-auc:0.71421\n",
      "[76]\tvalid-auc:0.71339\ttrain-auc:0.71422\n",
      "[77]\tvalid-auc:0.71350\ttrain-auc:0.71440\n",
      "[78]\tvalid-auc:0.71367\ttrain-auc:0.71459\n",
      "[79]\tvalid-auc:0.71369\ttrain-auc:0.71449\n",
      "[80]\tvalid-auc:0.71379\ttrain-auc:0.71466\n",
      "[81]\tvalid-auc:0.71409\ttrain-auc:0.71479\n",
      "[82]\tvalid-auc:0.71409\ttrain-auc:0.71503\n",
      "[83]\tvalid-auc:0.71433\ttrain-auc:0.71522\n",
      "[84]\tvalid-auc:0.71445\ttrain-auc:0.71539\n",
      "[85]\tvalid-auc:0.71457\ttrain-auc:0.71555\n",
      "[86]\tvalid-auc:0.71483\ttrain-auc:0.71563\n",
      "[87]\tvalid-auc:0.71500\ttrain-auc:0.71578\n",
      "[88]\tvalid-auc:0.71503\ttrain-auc:0.71592\n",
      "[89]\tvalid-auc:0.71512\ttrain-auc:0.71609\n",
      "[90]\tvalid-auc:0.71522\ttrain-auc:0.71620\n",
      "[91]\tvalid-auc:0.71525\ttrain-auc:0.71621\n",
      "[92]\tvalid-auc:0.71524\ttrain-auc:0.71622\n",
      "[93]\tvalid-auc:0.71536\ttrain-auc:0.71637\n",
      "[94]\tvalid-auc:0.71539\ttrain-auc:0.71651\n",
      "[95]\tvalid-auc:0.71553\ttrain-auc:0.71669\n",
      "[96]\tvalid-auc:0.71578\ttrain-auc:0.71681\n",
      "[97]\tvalid-auc:0.71579\ttrain-auc:0.71687\n",
      "[98]\tvalid-auc:0.71578\ttrain-auc:0.71710\n",
      "[99]\tvalid-auc:0.71595\ttrain-auc:0.71729\n"
     ]
    }
   ],
   "source": [
    "xgb_params = {\n",
    "    \"max_depth\": 1,\n",
    "    \"eta\": 0.3,\n",
    "    \"verbosity\": 2,\n",
    "    \"objective\": \"binary:logistic\",\n",
    "    \"eval_metric\": \"auc\"\n",
    "}\n",
    "\n",
    "dtrain = xgb.DMatrix(X_train_new, y_train_new)\n",
    "dvalid = xgb.DMatrix(X_valid_new, y_valid_new)\n",
    "watchlist = [(dvalid, \"valid\"), (dtrain, \"train\")]\n",
    "boost = xgb.train(xgb_params, dtrain, 100, watchlist)"
   ],
   "metadata": {
    "collapsed": false
   }
  },
  {
   "cell_type": "code",
   "execution_count": 41,
   "outputs": [],
   "source": [
    "dtrain_full = xgb.DMatrix(train_new, y)\n",
    "boost_final = xgb.train(xgb_params, dtrain_full, 1)"
   ],
   "metadata": {
    "collapsed": false
   }
  },
  {
   "cell_type": "code",
   "execution_count": 42,
   "outputs": [],
   "source": [
    "dtest = xgb.DMatrix(test_new)\n",
    "xgb_test_pred = boost_final.predict(dtest)\n",
    "\n",
    "# pd.Series(xgb_test_pred, name=\"dep_delayed_15min\").to_csv(\n",
    "#     \"xgb_2.csv\", index_label=\"id\", header=True\n",
    "# )"
   ],
   "metadata": {
    "collapsed": false
   }
  },
  {
   "cell_type": "markdown",
   "source": [
    "## Попытаемся настроить параметры"
   ],
   "metadata": {
    "collapsed": false
   }
  },
  {
   "cell_type": "code",
   "execution_count": 43,
   "outputs": [],
   "source": [
    "from hyperopt import fmin, tpe, hp, STATUS_OK, Trials\n",
    "from sklearn.metrics import log_loss\n",
    "\n",
    "def score(params):\n",
    "    print(\"Params:\", params)\n",
    "    dtrain = xgb.DMatrix(X_train_new, y_train_new)\n",
    "    dvalid = xgb.DMatrix(X_valid_new, y_valid_new)\n",
    "    model = xgb.train(params, dtrain, params[\"num_round\"])\n",
    "    pred = model.predict(dvalid)\n",
    "    score = roc_auc_score(y_valid_new, pred)\n",
    "    print(f\"Score: {score}\")\n",
    "    return {\"loss\": -score, \"status\": STATUS_OK}\n",
    "\n",
    "def optimize(trials, space, max_evals=10):\n",
    "    best = fmin(score, space, algo=tpe.suggest, trials=trials, max_evals=max_evals)\n",
    "    return best\n"
   ],
   "metadata": {
    "collapsed": false
   }
  },
  {
   "cell_type": "code",
   "execution_count": 44,
   "outputs": [
    {
     "name": "stdout",
     "output_type": "stream",
     "text": [
      "Params:                                              \n",
      "{'colsample_bytree': 0.9500000000000001, 'eval_metric': 'auc', 'gamma': 0.87, 'learning_rate': 0.1, 'max_depth': 5, 'min_child_weight': 8.0, 'num_round': 100, 'objective': 'binary:logistic', 'subsample': 0.8}\n",
      "  0%|          | 0/1 [00:00<?, ?trial/s, best loss=?]"
     ]
    },
    {
     "name": "stderr",
     "output_type": "stream",
     "text": [
      "D:\\Programms\\PyCharm 2022.3.1\\saves\\edu_project\\venv\\Lib\\site-packages\\xgboost\\core.py:158: UserWarning: [00:16:21] WARNING: C:\\buildkite-agent\\builds\\buildkite-windows-cpu-autoscaling-group-i-0015a694724fa8361-1\\xgboost\\xgboost-ci-windows\\src\\learner.cc:740: \n",
      "Parameters: { \"num_round\" } are not used.\n",
      "\n",
      "  warnings.warn(smsg, UserWarning)\n",
      "\n"
     ]
    },
    {
     "name": "stdout",
     "output_type": "stream",
     "text": [
      "Score: 0.7358211810857921                            \n",
      "100%|██████████| 1/1 [00:03<00:00,  3.71s/trial, best loss: -0.7358211810857921]\n"
     ]
    },
    {
     "data": {
      "text/plain": "{'colsample_bytree': 0.9500000000000001,\n 'gamma': 0.87,\n 'max_depth': 4,\n 'min_child_weight': 8.0,\n 'subsample': 0.8}"
     },
     "execution_count": 44,
     "metadata": {},
     "output_type": "execute_result"
    }
   ],
   "source": [
    "space = {\n",
    "    \"num_round\": 100,\n",
    "    \"learning_rate\": 0.1,\n",
    "    \"max_depth\": hp.choice(\"max_depth\", np.arange(1, 14, dtype=int)),\n",
    "    \"min_child_weight\": hp.quniform(\"min_child_weight\", 1, 10, 1),\n",
    "    \"subsample\": hp.quniform(\"subsample\", 0.5, 1, 0.05),\n",
    "    \"gamma\": hp.quniform(\"gamma\", 0.5, 1, 0.01),\n",
    "    \"colsample_bytree\": hp.quniform(\"colsample_bytree\", 0.4, 1, 0.05),\n",
    "    \"eval_metric\": \"auc\",\n",
    "    \"objective\": \"binary:logistic\",\n",
    "}\n",
    "\n",
    "trials = Trials()\n",
    "best_params = optimize(trials, space, 1)\n",
    "best_params"
   ],
   "metadata": {
    "collapsed": false
   }
  },
  {
   "cell_type": "code",
   "execution_count": 45,
   "outputs": [
    {
     "data": {
      "text/plain": "{'colsample_bytree': 0.9500000000000001,\n 'gamma': 0.87,\n 'max_depth': 4,\n 'min_child_weight': 8.0,\n 'subsample': 0.8}"
     },
     "execution_count": 45,
     "metadata": {},
     "output_type": "execute_result"
    }
   ],
   "source": [
    "best_params"
   ],
   "metadata": {
    "collapsed": false
   }
  },
  {
   "cell_type": "code",
   "execution_count": 46,
   "outputs": [],
   "source": [
    "best_params_saved = {\n",
    "    ## Настраивались\n",
    "    'colsample_bytree': 0.65,\n",
    "    'gamma': 0.98,\n",
    "    'max_depth': 12,\n",
    "    'min_child_weight': 3.0,\n",
    "    'subsample': 0.9,\n",
    "    ## Не настраивались\n",
    "    \"eval_metric\": \"auc\",\n",
    "    \"objective\": \"binary:logistic\",\n",
    "    \"silent\": 0,\n",
    "    \"learning_rate\": 0.1\n",
    "}"
   ],
   "metadata": {
    "collapsed": false
   }
  },
  {
   "cell_type": "code",
   "execution_count": 47,
   "outputs": [
    {
     "name": "stderr",
     "output_type": "stream",
     "text": [
      "D:\\Programms\\PyCharm 2022.3.1\\saves\\edu_project\\venv\\Lib\\site-packages\\xgboost\\core.py:158: UserWarning: [00:16:24] WARNING: C:\\buildkite-agent\\builds\\buildkite-windows-cpu-autoscaling-group-i-0015a694724fa8361-1\\xgboost\\xgboost-ci-windows\\src\\learner.cc:740: \n",
      "Parameters: { \"silent\" } are not used.\n",
      "\n",
      "  warnings.warn(smsg, UserWarning)\n"
     ]
    }
   ],
   "source": [
    "boost_final_tuned = xgb.train(best_params_saved, dtrain_full, 1000)"
   ],
   "metadata": {
    "collapsed": false
   }
  },
  {
   "cell_type": "code",
   "execution_count": 48,
   "outputs": [],
   "source": [
    "xgb_test_pred = boost_final_tuned.predict(dtest)\n",
    "\n",
    "# pd.Series(xgb_test_pred, name=\"dep_delayed_15min\").to_csv(\n",
    "#     \"xgb_3.csv\", index_label=\"id\", header=True\n",
    "# )"
   ],
   "metadata": {
    "collapsed": false
   }
  },
  {
   "cell_type": "markdown",
   "source": [
    "## Теперь настроим learning_rate"
   ],
   "metadata": {
    "collapsed": false
   }
  },
  {
   "cell_type": "code",
   "execution_count": 49,
   "outputs": [
    {
     "name": "stdout",
     "output_type": "stream",
     "text": [
      "Params:                                               \n",
      "{'colsample_bytree': 0.65, 'eval_metric': 'auc', 'gamma': 0.98, 'learning_rate': 0.015, 'max_depth': 12, 'min_child_weight': 3.0, 'num_round': 1500, 'objective': 'binary:logistic', 'silent': 0, 'subsample': 0.9}\n",
      "  0%|          | 0/15 [00:00<?, ?trial/s, best loss=?]"
     ]
    },
    {
     "name": "stderr",
     "output_type": "stream",
     "text": [
      "D:\\Programms\\PyCharm 2022.3.1\\saves\\edu_project\\venv\\Lib\\site-packages\\xgboost\\core.py:158: UserWarning: [00:16:53] WARNING: C:\\buildkite-agent\\builds\\buildkite-windows-cpu-autoscaling-group-i-0015a694724fa8361-1\\xgboost\\xgboost-ci-windows\\src\\learner.cc:740: \n",
      "Parameters: { \"num_round\", \"silent\" } are not used.\n",
      "\n",
      "  warnings.warn(smsg, UserWarning)\n",
      "\n"
     ]
    },
    {
     "name": "stdout",
     "output_type": "stream",
     "text": [
      "Score: 0.7554562764022572                             \n",
      "Params:                                                                          \n",
      "{'colsample_bytree': 0.65, 'eval_metric': 'auc', 'gamma': 0.98, 'learning_rate': 0.01, 'max_depth': 12, 'min_child_weight': 3.0, 'num_round': 1500, 'objective': 'binary:logistic', 'silent': 0, 'subsample': 0.9}\n",
      "  7%|▋         | 1/15 [00:46<10:43, 46.00s/trial, best loss: -0.7554562764022572]"
     ]
    },
    {
     "name": "stderr",
     "output_type": "stream",
     "text": [
      "D:\\Programms\\PyCharm 2022.3.1\\saves\\edu_project\\venv\\Lib\\site-packages\\xgboost\\core.py:158: UserWarning: [00:17:39] WARNING: C:\\buildkite-agent\\builds\\buildkite-windows-cpu-autoscaling-group-i-0015a694724fa8361-1\\xgboost\\xgboost-ci-windows\\src\\learner.cc:740: \n",
      "Parameters: { \"num_round\", \"silent\" } are not used.\n",
      "\n",
      "  warnings.warn(smsg, UserWarning)\n",
      "\n"
     ]
    },
    {
     "name": "stdout",
     "output_type": "stream",
     "text": [
      "  7%|▋         | 1/15 [01:14<17:26, 74.74s/trial, best loss: -0.7554562764022572]\n"
     ]
    },
    {
     "ename": "KeyboardInterrupt",
     "evalue": "",
     "output_type": "error",
     "traceback": [
      "\u001B[1;31m---------------------------------------------------------------------------\u001B[0m",
      "\u001B[1;31mKeyboardInterrupt\u001B[0m                         Traceback (most recent call last)",
      "Cell \u001B[1;32mIn[49], line 15\u001B[0m\n\u001B[0;32m      1\u001B[0m space_lr \u001B[38;5;241m=\u001B[39m {\n\u001B[0;32m      2\u001B[0m     \u001B[38;5;124m\"\u001B[39m\u001B[38;5;124mnum_round\u001B[39m\u001B[38;5;124m\"\u001B[39m: \u001B[38;5;241m1500\u001B[39m,\n\u001B[0;32m      3\u001B[0m     \u001B[38;5;124m'\u001B[39m\u001B[38;5;124mcolsample_bytree\u001B[39m\u001B[38;5;124m'\u001B[39m: \u001B[38;5;241m0.65\u001B[39m,\n\u001B[1;32m   (...)\u001B[0m\n\u001B[0;32m     11\u001B[0m     \u001B[38;5;124m\"\u001B[39m\u001B[38;5;124mlearning_rate\u001B[39m\u001B[38;5;124m\"\u001B[39m: hp\u001B[38;5;241m.\u001B[39mquniform(\u001B[38;5;124m\"\u001B[39m\u001B[38;5;124meta\u001B[39m\u001B[38;5;124m\"\u001B[39m, \u001B[38;5;241m0.005\u001B[39m, \u001B[38;5;241m0.05\u001B[39m, \u001B[38;5;241m0.005\u001B[39m),\n\u001B[0;32m     12\u001B[0m }\n\u001B[0;32m     14\u001B[0m trials \u001B[38;5;241m=\u001B[39m Trials()\n\u001B[1;32m---> 15\u001B[0m best_params \u001B[38;5;241m=\u001B[39m \u001B[43moptimize\u001B[49m\u001B[43m(\u001B[49m\u001B[43mtrials\u001B[49m\u001B[43m,\u001B[49m\u001B[43m \u001B[49m\u001B[43mspace_lr\u001B[49m\u001B[43m,\u001B[49m\u001B[43m \u001B[49m\u001B[43mmax_evals\u001B[49m\u001B[38;5;241;43m=\u001B[39;49m\u001B[38;5;241;43m15\u001B[39;49m\u001B[43m)\u001B[49m\n\u001B[0;32m     16\u001B[0m best_params\n",
      "Cell \u001B[1;32mIn[43], line 15\u001B[0m, in \u001B[0;36moptimize\u001B[1;34m(trials, space, max_evals)\u001B[0m\n\u001B[0;32m     14\u001B[0m \u001B[38;5;28;01mdef\u001B[39;00m \u001B[38;5;21moptimize\u001B[39m(trials, space, max_evals\u001B[38;5;241m=\u001B[39m\u001B[38;5;241m10\u001B[39m):\n\u001B[1;32m---> 15\u001B[0m     best \u001B[38;5;241m=\u001B[39m \u001B[43mfmin\u001B[49m\u001B[43m(\u001B[49m\u001B[43mscore\u001B[49m\u001B[43m,\u001B[49m\u001B[43m \u001B[49m\u001B[43mspace\u001B[49m\u001B[43m,\u001B[49m\u001B[43m \u001B[49m\u001B[43malgo\u001B[49m\u001B[38;5;241;43m=\u001B[39;49m\u001B[43mtpe\u001B[49m\u001B[38;5;241;43m.\u001B[39;49m\u001B[43msuggest\u001B[49m\u001B[43m,\u001B[49m\u001B[43m \u001B[49m\u001B[43mtrials\u001B[49m\u001B[38;5;241;43m=\u001B[39;49m\u001B[43mtrials\u001B[49m\u001B[43m,\u001B[49m\u001B[43m \u001B[49m\u001B[43mmax_evals\u001B[49m\u001B[38;5;241;43m=\u001B[39;49m\u001B[43mmax_evals\u001B[49m\u001B[43m)\u001B[49m\n\u001B[0;32m     16\u001B[0m     \u001B[38;5;28;01mreturn\u001B[39;00m best\n",
      "File \u001B[1;32mD:\\Programms\\PyCharm 2022.3.1\\saves\\edu_project\\venv\\Lib\\site-packages\\hyperopt\\fmin.py:540\u001B[0m, in \u001B[0;36mfmin\u001B[1;34m(fn, space, algo, max_evals, timeout, loss_threshold, trials, rstate, allow_trials_fmin, pass_expr_memo_ctrl, catch_eval_exceptions, verbose, return_argmin, points_to_evaluate, max_queue_len, show_progressbar, early_stop_fn, trials_save_file)\u001B[0m\n\u001B[0;32m    537\u001B[0m     fn \u001B[38;5;241m=\u001B[39m __objective_fmin_wrapper(fn)\n\u001B[0;32m    539\u001B[0m \u001B[38;5;28;01mif\u001B[39;00m allow_trials_fmin \u001B[38;5;129;01mand\u001B[39;00m \u001B[38;5;28mhasattr\u001B[39m(trials, \u001B[38;5;124m\"\u001B[39m\u001B[38;5;124mfmin\u001B[39m\u001B[38;5;124m\"\u001B[39m):\n\u001B[1;32m--> 540\u001B[0m     \u001B[38;5;28;01mreturn\u001B[39;00m \u001B[43mtrials\u001B[49m\u001B[38;5;241;43m.\u001B[39;49m\u001B[43mfmin\u001B[49m\u001B[43m(\u001B[49m\n\u001B[0;32m    541\u001B[0m \u001B[43m        \u001B[49m\u001B[43mfn\u001B[49m\u001B[43m,\u001B[49m\n\u001B[0;32m    542\u001B[0m \u001B[43m        \u001B[49m\u001B[43mspace\u001B[49m\u001B[43m,\u001B[49m\n\u001B[0;32m    543\u001B[0m \u001B[43m        \u001B[49m\u001B[43malgo\u001B[49m\u001B[38;5;241;43m=\u001B[39;49m\u001B[43malgo\u001B[49m\u001B[43m,\u001B[49m\n\u001B[0;32m    544\u001B[0m \u001B[43m        \u001B[49m\u001B[43mmax_evals\u001B[49m\u001B[38;5;241;43m=\u001B[39;49m\u001B[43mmax_evals\u001B[49m\u001B[43m,\u001B[49m\n\u001B[0;32m    545\u001B[0m \u001B[43m        \u001B[49m\u001B[43mtimeout\u001B[49m\u001B[38;5;241;43m=\u001B[39;49m\u001B[43mtimeout\u001B[49m\u001B[43m,\u001B[49m\n\u001B[0;32m    546\u001B[0m \u001B[43m        \u001B[49m\u001B[43mloss_threshold\u001B[49m\u001B[38;5;241;43m=\u001B[39;49m\u001B[43mloss_threshold\u001B[49m\u001B[43m,\u001B[49m\n\u001B[0;32m    547\u001B[0m \u001B[43m        \u001B[49m\u001B[43mmax_queue_len\u001B[49m\u001B[38;5;241;43m=\u001B[39;49m\u001B[43mmax_queue_len\u001B[49m\u001B[43m,\u001B[49m\n\u001B[0;32m    548\u001B[0m \u001B[43m        \u001B[49m\u001B[43mrstate\u001B[49m\u001B[38;5;241;43m=\u001B[39;49m\u001B[43mrstate\u001B[49m\u001B[43m,\u001B[49m\n\u001B[0;32m    549\u001B[0m \u001B[43m        \u001B[49m\u001B[43mpass_expr_memo_ctrl\u001B[49m\u001B[38;5;241;43m=\u001B[39;49m\u001B[43mpass_expr_memo_ctrl\u001B[49m\u001B[43m,\u001B[49m\n\u001B[0;32m    550\u001B[0m \u001B[43m        \u001B[49m\u001B[43mverbose\u001B[49m\u001B[38;5;241;43m=\u001B[39;49m\u001B[43mverbose\u001B[49m\u001B[43m,\u001B[49m\n\u001B[0;32m    551\u001B[0m \u001B[43m        \u001B[49m\u001B[43mcatch_eval_exceptions\u001B[49m\u001B[38;5;241;43m=\u001B[39;49m\u001B[43mcatch_eval_exceptions\u001B[49m\u001B[43m,\u001B[49m\n\u001B[0;32m    552\u001B[0m \u001B[43m        \u001B[49m\u001B[43mreturn_argmin\u001B[49m\u001B[38;5;241;43m=\u001B[39;49m\u001B[43mreturn_argmin\u001B[49m\u001B[43m,\u001B[49m\n\u001B[0;32m    553\u001B[0m \u001B[43m        \u001B[49m\u001B[43mshow_progressbar\u001B[49m\u001B[38;5;241;43m=\u001B[39;49m\u001B[43mshow_progressbar\u001B[49m\u001B[43m,\u001B[49m\n\u001B[0;32m    554\u001B[0m \u001B[43m        \u001B[49m\u001B[43mearly_stop_fn\u001B[49m\u001B[38;5;241;43m=\u001B[39;49m\u001B[43mearly_stop_fn\u001B[49m\u001B[43m,\u001B[49m\n\u001B[0;32m    555\u001B[0m \u001B[43m        \u001B[49m\u001B[43mtrials_save_file\u001B[49m\u001B[38;5;241;43m=\u001B[39;49m\u001B[43mtrials_save_file\u001B[49m\u001B[43m,\u001B[49m\n\u001B[0;32m    556\u001B[0m \u001B[43m    \u001B[49m\u001B[43m)\u001B[49m\n\u001B[0;32m    558\u001B[0m \u001B[38;5;28;01mif\u001B[39;00m trials \u001B[38;5;129;01mis\u001B[39;00m \u001B[38;5;28;01mNone\u001B[39;00m:\n\u001B[0;32m    559\u001B[0m     \u001B[38;5;28;01mif\u001B[39;00m os\u001B[38;5;241m.\u001B[39mpath\u001B[38;5;241m.\u001B[39mexists(trials_save_file):\n",
      "File \u001B[1;32mD:\\Programms\\PyCharm 2022.3.1\\saves\\edu_project\\venv\\Lib\\site-packages\\hyperopt\\base.py:671\u001B[0m, in \u001B[0;36mTrials.fmin\u001B[1;34m(self, fn, space, algo, max_evals, timeout, loss_threshold, max_queue_len, rstate, verbose, pass_expr_memo_ctrl, catch_eval_exceptions, return_argmin, show_progressbar, early_stop_fn, trials_save_file)\u001B[0m\n\u001B[0;32m    666\u001B[0m \u001B[38;5;66;03m# -- Stop-gap implementation!\u001B[39;00m\n\u001B[0;32m    667\u001B[0m \u001B[38;5;66;03m#    fmin should have been a Trials method in the first place\u001B[39;00m\n\u001B[0;32m    668\u001B[0m \u001B[38;5;66;03m#    but for now it's still sitting in another file.\u001B[39;00m\n\u001B[0;32m    669\u001B[0m \u001B[38;5;28;01mfrom\u001B[39;00m \u001B[38;5;21;01m.\u001B[39;00m\u001B[38;5;21;01mfmin\u001B[39;00m \u001B[38;5;28;01mimport\u001B[39;00m fmin\n\u001B[1;32m--> 671\u001B[0m \u001B[38;5;28;01mreturn\u001B[39;00m \u001B[43mfmin\u001B[49m\u001B[43m(\u001B[49m\n\u001B[0;32m    672\u001B[0m \u001B[43m    \u001B[49m\u001B[43mfn\u001B[49m\u001B[43m,\u001B[49m\n\u001B[0;32m    673\u001B[0m \u001B[43m    \u001B[49m\u001B[43mspace\u001B[49m\u001B[43m,\u001B[49m\n\u001B[0;32m    674\u001B[0m \u001B[43m    \u001B[49m\u001B[43malgo\u001B[49m\u001B[38;5;241;43m=\u001B[39;49m\u001B[43malgo\u001B[49m\u001B[43m,\u001B[49m\n\u001B[0;32m    675\u001B[0m \u001B[43m    \u001B[49m\u001B[43mmax_evals\u001B[49m\u001B[38;5;241;43m=\u001B[39;49m\u001B[43mmax_evals\u001B[49m\u001B[43m,\u001B[49m\n\u001B[0;32m    676\u001B[0m \u001B[43m    \u001B[49m\u001B[43mtimeout\u001B[49m\u001B[38;5;241;43m=\u001B[39;49m\u001B[43mtimeout\u001B[49m\u001B[43m,\u001B[49m\n\u001B[0;32m    677\u001B[0m \u001B[43m    \u001B[49m\u001B[43mloss_threshold\u001B[49m\u001B[38;5;241;43m=\u001B[39;49m\u001B[43mloss_threshold\u001B[49m\u001B[43m,\u001B[49m\n\u001B[0;32m    678\u001B[0m \u001B[43m    \u001B[49m\u001B[43mtrials\u001B[49m\u001B[38;5;241;43m=\u001B[39;49m\u001B[38;5;28;43mself\u001B[39;49m\u001B[43m,\u001B[49m\n\u001B[0;32m    679\u001B[0m \u001B[43m    \u001B[49m\u001B[43mrstate\u001B[49m\u001B[38;5;241;43m=\u001B[39;49m\u001B[43mrstate\u001B[49m\u001B[43m,\u001B[49m\n\u001B[0;32m    680\u001B[0m \u001B[43m    \u001B[49m\u001B[43mverbose\u001B[49m\u001B[38;5;241;43m=\u001B[39;49m\u001B[43mverbose\u001B[49m\u001B[43m,\u001B[49m\n\u001B[0;32m    681\u001B[0m \u001B[43m    \u001B[49m\u001B[43mmax_queue_len\u001B[49m\u001B[38;5;241;43m=\u001B[39;49m\u001B[43mmax_queue_len\u001B[49m\u001B[43m,\u001B[49m\n\u001B[0;32m    682\u001B[0m \u001B[43m    \u001B[49m\u001B[43mallow_trials_fmin\u001B[49m\u001B[38;5;241;43m=\u001B[39;49m\u001B[38;5;28;43;01mFalse\u001B[39;49;00m\u001B[43m,\u001B[49m\u001B[43m  \u001B[49m\u001B[38;5;66;43;03m# -- prevent recursion\u001B[39;49;00m\n\u001B[0;32m    683\u001B[0m \u001B[43m    \u001B[49m\u001B[43mpass_expr_memo_ctrl\u001B[49m\u001B[38;5;241;43m=\u001B[39;49m\u001B[43mpass_expr_memo_ctrl\u001B[49m\u001B[43m,\u001B[49m\n\u001B[0;32m    684\u001B[0m \u001B[43m    \u001B[49m\u001B[43mcatch_eval_exceptions\u001B[49m\u001B[38;5;241;43m=\u001B[39;49m\u001B[43mcatch_eval_exceptions\u001B[49m\u001B[43m,\u001B[49m\n\u001B[0;32m    685\u001B[0m \u001B[43m    \u001B[49m\u001B[43mreturn_argmin\u001B[49m\u001B[38;5;241;43m=\u001B[39;49m\u001B[43mreturn_argmin\u001B[49m\u001B[43m,\u001B[49m\n\u001B[0;32m    686\u001B[0m \u001B[43m    \u001B[49m\u001B[43mshow_progressbar\u001B[49m\u001B[38;5;241;43m=\u001B[39;49m\u001B[43mshow_progressbar\u001B[49m\u001B[43m,\u001B[49m\n\u001B[0;32m    687\u001B[0m \u001B[43m    \u001B[49m\u001B[43mearly_stop_fn\u001B[49m\u001B[38;5;241;43m=\u001B[39;49m\u001B[43mearly_stop_fn\u001B[49m\u001B[43m,\u001B[49m\n\u001B[0;32m    688\u001B[0m \u001B[43m    \u001B[49m\u001B[43mtrials_save_file\u001B[49m\u001B[38;5;241;43m=\u001B[39;49m\u001B[43mtrials_save_file\u001B[49m\u001B[43m,\u001B[49m\n\u001B[0;32m    689\u001B[0m \u001B[43m\u001B[49m\u001B[43m)\u001B[49m\n",
      "File \u001B[1;32mD:\\Programms\\PyCharm 2022.3.1\\saves\\edu_project\\venv\\Lib\\site-packages\\hyperopt\\fmin.py:586\u001B[0m, in \u001B[0;36mfmin\u001B[1;34m(fn, space, algo, max_evals, timeout, loss_threshold, trials, rstate, allow_trials_fmin, pass_expr_memo_ctrl, catch_eval_exceptions, verbose, return_argmin, points_to_evaluate, max_queue_len, show_progressbar, early_stop_fn, trials_save_file)\u001B[0m\n\u001B[0;32m    583\u001B[0m rval\u001B[38;5;241m.\u001B[39mcatch_eval_exceptions \u001B[38;5;241m=\u001B[39m catch_eval_exceptions\n\u001B[0;32m    585\u001B[0m \u001B[38;5;66;03m# next line is where the fmin is actually executed\u001B[39;00m\n\u001B[1;32m--> 586\u001B[0m \u001B[43mrval\u001B[49m\u001B[38;5;241;43m.\u001B[39;49m\u001B[43mexhaust\u001B[49m\u001B[43m(\u001B[49m\u001B[43m)\u001B[49m\n\u001B[0;32m    588\u001B[0m \u001B[38;5;28;01mif\u001B[39;00m return_argmin:\n\u001B[0;32m    589\u001B[0m     \u001B[38;5;28;01mif\u001B[39;00m \u001B[38;5;28mlen\u001B[39m(trials\u001B[38;5;241m.\u001B[39mtrials) \u001B[38;5;241m==\u001B[39m \u001B[38;5;241m0\u001B[39m:\n",
      "File \u001B[1;32mD:\\Programms\\PyCharm 2022.3.1\\saves\\edu_project\\venv\\Lib\\site-packages\\hyperopt\\fmin.py:364\u001B[0m, in \u001B[0;36mFMinIter.exhaust\u001B[1;34m(self)\u001B[0m\n\u001B[0;32m    362\u001B[0m \u001B[38;5;28;01mdef\u001B[39;00m \u001B[38;5;21mexhaust\u001B[39m(\u001B[38;5;28mself\u001B[39m):\n\u001B[0;32m    363\u001B[0m     n_done \u001B[38;5;241m=\u001B[39m \u001B[38;5;28mlen\u001B[39m(\u001B[38;5;28mself\u001B[39m\u001B[38;5;241m.\u001B[39mtrials)\n\u001B[1;32m--> 364\u001B[0m     \u001B[38;5;28;43mself\u001B[39;49m\u001B[38;5;241;43m.\u001B[39;49m\u001B[43mrun\u001B[49m\u001B[43m(\u001B[49m\u001B[38;5;28;43mself\u001B[39;49m\u001B[38;5;241;43m.\u001B[39;49m\u001B[43mmax_evals\u001B[49m\u001B[43m \u001B[49m\u001B[38;5;241;43m-\u001B[39;49m\u001B[43m \u001B[49m\u001B[43mn_done\u001B[49m\u001B[43m,\u001B[49m\u001B[43m \u001B[49m\u001B[43mblock_until_done\u001B[49m\u001B[38;5;241;43m=\u001B[39;49m\u001B[38;5;28;43mself\u001B[39;49m\u001B[38;5;241;43m.\u001B[39;49m\u001B[43masynchronous\u001B[49m\u001B[43m)\u001B[49m\n\u001B[0;32m    365\u001B[0m     \u001B[38;5;28mself\u001B[39m\u001B[38;5;241m.\u001B[39mtrials\u001B[38;5;241m.\u001B[39mrefresh()\n\u001B[0;32m    366\u001B[0m     \u001B[38;5;28;01mreturn\u001B[39;00m \u001B[38;5;28mself\u001B[39m\n",
      "File \u001B[1;32mD:\\Programms\\PyCharm 2022.3.1\\saves\\edu_project\\venv\\Lib\\site-packages\\hyperopt\\fmin.py:300\u001B[0m, in \u001B[0;36mFMinIter.run\u001B[1;34m(self, N, block_until_done)\u001B[0m\n\u001B[0;32m    297\u001B[0m     time\u001B[38;5;241m.\u001B[39msleep(\u001B[38;5;28mself\u001B[39m\u001B[38;5;241m.\u001B[39mpoll_interval_secs)\n\u001B[0;32m    298\u001B[0m \u001B[38;5;28;01melse\u001B[39;00m:\n\u001B[0;32m    299\u001B[0m     \u001B[38;5;66;03m# -- loop over trials and do the jobs directly\u001B[39;00m\n\u001B[1;32m--> 300\u001B[0m     \u001B[38;5;28;43mself\u001B[39;49m\u001B[38;5;241;43m.\u001B[39;49m\u001B[43mserial_evaluate\u001B[49m\u001B[43m(\u001B[49m\u001B[43m)\u001B[49m\n\u001B[0;32m    302\u001B[0m \u001B[38;5;28mself\u001B[39m\u001B[38;5;241m.\u001B[39mtrials\u001B[38;5;241m.\u001B[39mrefresh()\n\u001B[0;32m    303\u001B[0m \u001B[38;5;28;01mif\u001B[39;00m \u001B[38;5;28mself\u001B[39m\u001B[38;5;241m.\u001B[39mtrials_save_file \u001B[38;5;241m!=\u001B[39m \u001B[38;5;124m\"\u001B[39m\u001B[38;5;124m\"\u001B[39m:\n",
      "File \u001B[1;32mD:\\Programms\\PyCharm 2022.3.1\\saves\\edu_project\\venv\\Lib\\site-packages\\hyperopt\\fmin.py:178\u001B[0m, in \u001B[0;36mFMinIter.serial_evaluate\u001B[1;34m(self, N)\u001B[0m\n\u001B[0;32m    176\u001B[0m ctrl \u001B[38;5;241m=\u001B[39m base\u001B[38;5;241m.\u001B[39mCtrl(\u001B[38;5;28mself\u001B[39m\u001B[38;5;241m.\u001B[39mtrials, current_trial\u001B[38;5;241m=\u001B[39mtrial)\n\u001B[0;32m    177\u001B[0m \u001B[38;5;28;01mtry\u001B[39;00m:\n\u001B[1;32m--> 178\u001B[0m     result \u001B[38;5;241m=\u001B[39m \u001B[38;5;28;43mself\u001B[39;49m\u001B[38;5;241;43m.\u001B[39;49m\u001B[43mdomain\u001B[49m\u001B[38;5;241;43m.\u001B[39;49m\u001B[43mevaluate\u001B[49m\u001B[43m(\u001B[49m\u001B[43mspec\u001B[49m\u001B[43m,\u001B[49m\u001B[43m \u001B[49m\u001B[43mctrl\u001B[49m\u001B[43m)\u001B[49m\n\u001B[0;32m    179\u001B[0m \u001B[38;5;28;01mexcept\u001B[39;00m \u001B[38;5;167;01mException\u001B[39;00m \u001B[38;5;28;01mas\u001B[39;00m e:\n\u001B[0;32m    180\u001B[0m     logger\u001B[38;5;241m.\u001B[39merror(\u001B[38;5;124m\"\u001B[39m\u001B[38;5;124mjob exception: \u001B[39m\u001B[38;5;132;01m%s\u001B[39;00m\u001B[38;5;124m\"\u001B[39m \u001B[38;5;241m%\u001B[39m \u001B[38;5;28mstr\u001B[39m(e))\n",
      "File \u001B[1;32mD:\\Programms\\PyCharm 2022.3.1\\saves\\edu_project\\venv\\Lib\\site-packages\\hyperopt\\base.py:892\u001B[0m, in \u001B[0;36mDomain.evaluate\u001B[1;34m(self, config, ctrl, attach_attachments)\u001B[0m\n\u001B[0;32m    883\u001B[0m \u001B[38;5;28;01melse\u001B[39;00m:\n\u001B[0;32m    884\u001B[0m     \u001B[38;5;66;03m# -- the \"work\" of evaluating `config` can be written\u001B[39;00m\n\u001B[0;32m    885\u001B[0m     \u001B[38;5;66;03m#    either into the pyll part (self.expr)\u001B[39;00m\n\u001B[0;32m    886\u001B[0m     \u001B[38;5;66;03m#    or the normal Python part (self.fn)\u001B[39;00m\n\u001B[0;32m    887\u001B[0m     pyll_rval \u001B[38;5;241m=\u001B[39m pyll\u001B[38;5;241m.\u001B[39mrec_eval(\n\u001B[0;32m    888\u001B[0m         \u001B[38;5;28mself\u001B[39m\u001B[38;5;241m.\u001B[39mexpr,\n\u001B[0;32m    889\u001B[0m         memo\u001B[38;5;241m=\u001B[39mmemo,\n\u001B[0;32m    890\u001B[0m         print_node_on_error\u001B[38;5;241m=\u001B[39m\u001B[38;5;28mself\u001B[39m\u001B[38;5;241m.\u001B[39mrec_eval_print_node_on_error,\n\u001B[0;32m    891\u001B[0m     )\n\u001B[1;32m--> 892\u001B[0m     rval \u001B[38;5;241m=\u001B[39m \u001B[38;5;28;43mself\u001B[39;49m\u001B[38;5;241;43m.\u001B[39;49m\u001B[43mfn\u001B[49m\u001B[43m(\u001B[49m\u001B[43mpyll_rval\u001B[49m\u001B[43m)\u001B[49m\n\u001B[0;32m    894\u001B[0m \u001B[38;5;28;01mif\u001B[39;00m \u001B[38;5;28misinstance\u001B[39m(rval, (\u001B[38;5;28mfloat\u001B[39m, \u001B[38;5;28mint\u001B[39m, np\u001B[38;5;241m.\u001B[39mnumber)):\n\u001B[0;32m    895\u001B[0m     dict_rval \u001B[38;5;241m=\u001B[39m {\u001B[38;5;124m\"\u001B[39m\u001B[38;5;124mloss\u001B[39m\u001B[38;5;124m\"\u001B[39m: \u001B[38;5;28mfloat\u001B[39m(rval), \u001B[38;5;124m\"\u001B[39m\u001B[38;5;124mstatus\u001B[39m\u001B[38;5;124m\"\u001B[39m: STATUS_OK}\n",
      "Cell \u001B[1;32mIn[43], line 8\u001B[0m, in \u001B[0;36mscore\u001B[1;34m(params)\u001B[0m\n\u001B[0;32m      6\u001B[0m dtrain \u001B[38;5;241m=\u001B[39m xgb\u001B[38;5;241m.\u001B[39mDMatrix(X_train_new, y_train_new)\n\u001B[0;32m      7\u001B[0m dvalid \u001B[38;5;241m=\u001B[39m xgb\u001B[38;5;241m.\u001B[39mDMatrix(X_valid_new, y_valid_new)\n\u001B[1;32m----> 8\u001B[0m model \u001B[38;5;241m=\u001B[39m \u001B[43mxgb\u001B[49m\u001B[38;5;241;43m.\u001B[39;49m\u001B[43mtrain\u001B[49m\u001B[43m(\u001B[49m\u001B[43mparams\u001B[49m\u001B[43m,\u001B[49m\u001B[43m \u001B[49m\u001B[43mdtrain\u001B[49m\u001B[43m,\u001B[49m\u001B[43m \u001B[49m\u001B[43mparams\u001B[49m\u001B[43m[\u001B[49m\u001B[38;5;124;43m\"\u001B[39;49m\u001B[38;5;124;43mnum_round\u001B[39;49m\u001B[38;5;124;43m\"\u001B[39;49m\u001B[43m]\u001B[49m\u001B[43m)\u001B[49m\n\u001B[0;32m      9\u001B[0m pred \u001B[38;5;241m=\u001B[39m model\u001B[38;5;241m.\u001B[39mpredict(dvalid)\n\u001B[0;32m     10\u001B[0m score \u001B[38;5;241m=\u001B[39m roc_auc_score(y_valid_new, pred)\n",
      "File \u001B[1;32mD:\\Programms\\PyCharm 2022.3.1\\saves\\edu_project\\venv\\Lib\\site-packages\\xgboost\\core.py:726\u001B[0m, in \u001B[0;36mrequire_keyword_args.<locals>.throw_if.<locals>.inner_f\u001B[1;34m(*args, **kwargs)\u001B[0m\n\u001B[0;32m    724\u001B[0m \u001B[38;5;28;01mfor\u001B[39;00m k, arg \u001B[38;5;129;01min\u001B[39;00m \u001B[38;5;28mzip\u001B[39m(sig\u001B[38;5;241m.\u001B[39mparameters, args):\n\u001B[0;32m    725\u001B[0m     kwargs[k] \u001B[38;5;241m=\u001B[39m arg\n\u001B[1;32m--> 726\u001B[0m \u001B[38;5;28;01mreturn\u001B[39;00m \u001B[43mfunc\u001B[49m\u001B[43m(\u001B[49m\u001B[38;5;241;43m*\u001B[39;49m\u001B[38;5;241;43m*\u001B[39;49m\u001B[43mkwargs\u001B[49m\u001B[43m)\u001B[49m\n",
      "File \u001B[1;32mD:\\Programms\\PyCharm 2022.3.1\\saves\\edu_project\\venv\\Lib\\site-packages\\xgboost\\training.py:181\u001B[0m, in \u001B[0;36mtrain\u001B[1;34m(params, dtrain, num_boost_round, evals, obj, feval, maximize, early_stopping_rounds, evals_result, verbose_eval, xgb_model, callbacks, custom_metric)\u001B[0m\n\u001B[0;32m    179\u001B[0m \u001B[38;5;28;01mif\u001B[39;00m cb_container\u001B[38;5;241m.\u001B[39mbefore_iteration(bst, i, dtrain, evals):\n\u001B[0;32m    180\u001B[0m     \u001B[38;5;28;01mbreak\u001B[39;00m\n\u001B[1;32m--> 181\u001B[0m \u001B[43mbst\u001B[49m\u001B[38;5;241;43m.\u001B[39;49m\u001B[43mupdate\u001B[49m\u001B[43m(\u001B[49m\u001B[43mdtrain\u001B[49m\u001B[43m,\u001B[49m\u001B[43m \u001B[49m\u001B[43miteration\u001B[49m\u001B[38;5;241;43m=\u001B[39;49m\u001B[43mi\u001B[49m\u001B[43m,\u001B[49m\u001B[43m \u001B[49m\u001B[43mfobj\u001B[49m\u001B[38;5;241;43m=\u001B[39;49m\u001B[43mobj\u001B[49m\u001B[43m)\u001B[49m\n\u001B[0;32m    182\u001B[0m \u001B[38;5;28;01mif\u001B[39;00m cb_container\u001B[38;5;241m.\u001B[39mafter_iteration(bst, i, dtrain, evals):\n\u001B[0;32m    183\u001B[0m     \u001B[38;5;28;01mbreak\u001B[39;00m\n",
      "File \u001B[1;32mD:\\Programms\\PyCharm 2022.3.1\\saves\\edu_project\\venv\\Lib\\site-packages\\xgboost\\core.py:2101\u001B[0m, in \u001B[0;36mBooster.update\u001B[1;34m(self, dtrain, iteration, fobj)\u001B[0m\n\u001B[0;32m   2097\u001B[0m \u001B[38;5;28mself\u001B[39m\u001B[38;5;241m.\u001B[39m_assign_dmatrix_features(dtrain)\n\u001B[0;32m   2099\u001B[0m \u001B[38;5;28;01mif\u001B[39;00m fobj \u001B[38;5;129;01mis\u001B[39;00m \u001B[38;5;28;01mNone\u001B[39;00m:\n\u001B[0;32m   2100\u001B[0m     _check_call(\n\u001B[1;32m-> 2101\u001B[0m         \u001B[43m_LIB\u001B[49m\u001B[38;5;241;43m.\u001B[39;49m\u001B[43mXGBoosterUpdateOneIter\u001B[49m\u001B[43m(\u001B[49m\n\u001B[0;32m   2102\u001B[0m \u001B[43m            \u001B[49m\u001B[38;5;28;43mself\u001B[39;49m\u001B[38;5;241;43m.\u001B[39;49m\u001B[43mhandle\u001B[49m\u001B[43m,\u001B[49m\u001B[43m \u001B[49m\u001B[43mctypes\u001B[49m\u001B[38;5;241;43m.\u001B[39;49m\u001B[43mc_int\u001B[49m\u001B[43m(\u001B[49m\u001B[43miteration\u001B[49m\u001B[43m)\u001B[49m\u001B[43m,\u001B[49m\u001B[43m \u001B[49m\u001B[43mdtrain\u001B[49m\u001B[38;5;241;43m.\u001B[39;49m\u001B[43mhandle\u001B[49m\n\u001B[0;32m   2103\u001B[0m \u001B[43m        \u001B[49m\u001B[43m)\u001B[49m\n\u001B[0;32m   2104\u001B[0m     )\n\u001B[0;32m   2105\u001B[0m \u001B[38;5;28;01melse\u001B[39;00m:\n\u001B[0;32m   2106\u001B[0m     pred \u001B[38;5;241m=\u001B[39m \u001B[38;5;28mself\u001B[39m\u001B[38;5;241m.\u001B[39mpredict(dtrain, output_margin\u001B[38;5;241m=\u001B[39m\u001B[38;5;28;01mTrue\u001B[39;00m, training\u001B[38;5;241m=\u001B[39m\u001B[38;5;28;01mTrue\u001B[39;00m)\n",
      "\u001B[1;31mKeyboardInterrupt\u001B[0m: "
     ]
    }
   ],
   "source": [
    "space_lr = {\n",
    "    \"num_round\": 1500,\n",
    "    'colsample_bytree': 0.65,\n",
    "    'gamma': 0.98,\n",
    "    'max_depth': 12,\n",
    "    'min_child_weight': 3.0,\n",
    "    'subsample': 0.9,\n",
    "    \"eval_metric\": \"auc\",\n",
    "    \"objective\": \"binary:logistic\",\n",
    "    \"silent\": 0,\n",
    "    \"learning_rate\": hp.quniform(\"eta\", 0.005, 0.05, 0.005),\n",
    "}\n",
    "\n",
    "trials = Trials()\n",
    "best_params = optimize(trials, space_lr, max_evals=15)\n",
    "best_params"
   ],
   "metadata": {
    "collapsed": false
   }
  },
  {
   "cell_type": "code",
   "execution_count": 103,
   "outputs": [],
   "source": [
    "best_params_saved_final = {\n",
    "    'colsample_bytree': 0.65,\n",
    "    'gamma': 0.98,\n",
    "    'max_depth': 12,\n",
    "    'min_child_weight': 3.0,\n",
    "    'subsample': 0.9,\n",
    "    \"eval_metric\": \"auc\",\n",
    "    \"objective\": \"binary:logistic\",\n",
    "    \"learning_rate\": 0.03\n",
    "}"
   ],
   "metadata": {
    "collapsed": false
   }
  },
  {
   "cell_type": "code",
   "execution_count": 52,
   "outputs": [],
   "source": [
    "boost_final_tuned = xgb.train(best_params_saved_final, dtrain_full, 1500)"
   ],
   "metadata": {
    "collapsed": false
   }
  },
  {
   "cell_type": "code",
   "execution_count": null,
   "outputs": [],
   "source": [
    "xgb_test_pred = boost_final_tuned.predict(dtest)\n",
    "\n",
    "pd.Series(xgb_test_pred, name=\"dep_delayed_15min\").to_csv(\n",
    "    \"xgb_5.csv\", index_label=\"id\", header=True\n",
    ")"
   ],
   "metadata": {
    "collapsed": false
   }
  },
  {
   "cell_type": "markdown",
   "source": [
    "## Обучим и настроим линейную модель"
   ],
   "metadata": {
    "collapsed": false
   }
  },
  {
   "cell_type": "code",
   "execution_count": null,
   "outputs": [],
   "source": [
    "space_logit = {\n",
    "    \"penalty\" : hp.choice(\"penalty\", [\"l1\", \"l2\"]),\n",
    "    \"C\" : hp.loguniform(\"C\", -4 * np.log(10), 4 * np.log(10)),\n",
    "    \"solver\" : \"liblinear\"\n",
    "}\n",
    "\n",
    "def score_logit(params):\n",
    "    print(\"Params: \", params)\n",
    "    lin_model = LogisticRegression(**params)\n",
    "    lin_model.fit(X_train_new, y_train_new)\n",
    "    pred = lin_model.predict_proba(X_valid_new)[:, 1]\n",
    "    score = roc_auc_score(y_valid_new, pred)\n",
    "    print(f\"Score:{score}\")\n",
    "    return {\"loss\": -score, \"status\": STATUS_OK}\n",
    "\n",
    "def optimize_logit(trials, space, max_evals=10):\n",
    "    best = fmin(score_logit, space, algo=tpe.suggest, trials=trials, max_evals=max_evals)\n",
    "    return best"
   ],
   "metadata": {
    "collapsed": false
   }
  },
  {
   "cell_type": "code",
   "execution_count": null,
   "outputs": [],
   "source": [
    "trials = Trials()\n",
    "optimize_logit(trials, space_logit, 1)"
   ],
   "metadata": {
    "collapsed": false
   }
  },
  {
   "cell_type": "code",
   "execution_count": 71,
   "outputs": [],
   "source": [
    "best_logit_params = {\n",
    "    'C': 0.18126298865195695,\n",
    "    'penalty': \"l1\",\n",
    "    'solver' : 'liblinear'\n",
    "}"
   ],
   "metadata": {
    "collapsed": false
   }
  },
  {
   "cell_type": "markdown",
   "source": [
    "## Объединим и настроим смесь моделей"
   ],
   "metadata": {
    "collapsed": false
   }
  },
  {
   "cell_type": "code",
   "execution_count": null,
   "outputs": [],
   "source": [
    "logit_train_tuned = LogisticRegression(**best_logit_params).fit(X_train_new, y_train_new)\n",
    "train_logit_pred = logit_train_tuned.predict_proba(X_valid_new)[:, 1]"
   ],
   "metadata": {
    "collapsed": false
   }
  },
  {
   "cell_type": "code",
   "execution_count": null,
   "outputs": [],
   "source": [
    "boost_train_tuned = xgb.train(best_params_saved_final, xgb.DMatrix(X_train_new, y_train_new), 1500)\n",
    "train_xgb_pred = boost_train_tuned.predict(xgb.DMatrix(X_valid_new))"
   ],
   "metadata": {
    "collapsed": false
   }
  },
  {
   "cell_type": "code",
   "execution_count": null,
   "outputs": [],
   "source": [
    "weights = {\n",
    "    \"weight\" : hp.uniform(\"w\", 0, 1)\n",
    "}\n",
    "\n",
    "def score_my_model(params):\n",
    "    print(params)\n",
    "    w = params[\"weight\"]\n",
    "    pred = w * train_xgb_pred + (1 - w) * train_logit_pred\n",
    "    score = roc_auc_score(y_valid_new, pred)\n",
    "    print(f\"Score:{score}\")\n",
    "    return {\"loss\": -score, \"status\": STATUS_OK}\n",
    "\n",
    "def optimize_my_model(trials, space, max_evals=10):\n",
    "    best = fmin(score_my_model, space, algo=tpe.suggest, trials=trials, max_evals=max_evals)\n",
    "    return best"
   ],
   "metadata": {
    "collapsed": false
   }
  },
  {
   "cell_type": "code",
   "execution_count": null,
   "outputs": [],
   "source": [
    "trials = Trials()\n",
    "best_my_model_weight = optimize_my_model(trials, weights, 100)"
   ],
   "metadata": {
    "collapsed": false
   }
  },
  {
   "cell_type": "code",
   "execution_count": null,
   "outputs": [],
   "source": [
    "best_my_model_weight"
   ],
   "metadata": {
    "collapsed": false
   }
  },
  {
   "cell_type": "code",
   "execution_count": 54,
   "outputs": [],
   "source": [
    "best_weight = {'w': 0.9833484263607899}"
   ],
   "metadata": {
    "collapsed": false
   }
  },
  {
   "cell_type": "markdown",
   "source": [
    "## Настройка на кроссвалидации"
   ],
   "metadata": {
    "collapsed": false
   }
  },
  {
   "cell_type": "code",
   "execution_count": 146,
   "outputs": [],
   "source": [
    "from sklearn.base import BaseEstimator\n",
    "\n",
    "class My_Model(BaseEstimator):\n",
    "    def __init__(self, w=None, logit_params=None, xgb_params=None):\n",
    "        self.logit = None\n",
    "        self.boost = None\n",
    "        self.w = w\n",
    "        self.logit_params = logit_params\n",
    "        self.xgb_params = xgb_params\n",
    "\n",
    "    def get_params(self, deep=True):\n",
    "        return {\"w\": self.w, \"logit_params\" : self.logit_params, \"xgb_params\" : self.xgb_params}\n",
    "\n",
    "    def set_params(self, **parameters):\n",
    "        for parameter, value in parameters.items():\n",
    "            setattr(self, parameter, value)\n",
    "        return self\n",
    "\n",
    "    def fit(self, X: np.array, y: np.array):\n",
    "        dtrain = xgb.DMatrix(X, y)\n",
    "        self.boost = xgb.train(self.xgb_params, dtrain, 1500)\n",
    "        self.logit = LogisticRegression(**self.logit_params).fit(X, y)\n",
    "        return self\n",
    "\n",
    "    def predict(self, X):\n",
    "        dtest = xgb.DMatrix(X)\n",
    "        boost_pred = self.boost.predict(dtest)\n",
    "        logit_pred = self.logit.predict_proba(X)[:, 1]\n",
    "        return self.w * boost_pred + (1 - self.w) * logit_pred"
   ],
   "metadata": {
    "collapsed": false
   }
  },
  {
   "cell_type": "code",
   "execution_count": 155,
   "outputs": [],
   "source": [
    "mm = My_Model(0.9833484263607899, best_logit_params, best_params_saved_final)"
   ],
   "metadata": {
    "collapsed": false
   }
  },
  {
   "cell_type": "code",
   "execution_count": 156,
   "outputs": [
    {
     "data": {
      "text/plain": "My_Model(logit_params={'C': 0.18126298865195695, 'penalty': 'l1',\n                       'solver': 'liblinear'},\n         w=0.9833484263607899,\n         xgb_params={'colsample_bytree': 0.65, 'eval_metric': 'auc',\n                     'gamma': 0.98, 'learning_rate': 0.03, 'max_depth': 12,\n                     'min_child_weight': 3.0, 'objective': 'binary:logistic',\n                     'subsample': 0.9})",
      "text/html": "<style>#sk-container-id-12 {\n  /* Definition of color scheme common for light and dark mode */\n  --sklearn-color-text: black;\n  --sklearn-color-line: gray;\n  /* Definition of color scheme for unfitted estimators */\n  --sklearn-color-unfitted-level-0: #fff5e6;\n  --sklearn-color-unfitted-level-1: #f6e4d2;\n  --sklearn-color-unfitted-level-2: #ffe0b3;\n  --sklearn-color-unfitted-level-3: chocolate;\n  /* Definition of color scheme for fitted estimators */\n  --sklearn-color-fitted-level-0: #f0f8ff;\n  --sklearn-color-fitted-level-1: #d4ebff;\n  --sklearn-color-fitted-level-2: #b3dbfd;\n  --sklearn-color-fitted-level-3: cornflowerblue;\n\n  /* Specific color for light theme */\n  --sklearn-color-text-on-default-background: var(--sg-text-color, var(--theme-code-foreground, var(--jp-content-font-color1, black)));\n  --sklearn-color-background: var(--sg-background-color, var(--theme-background, var(--jp-layout-color0, white)));\n  --sklearn-color-border-box: var(--sg-text-color, var(--theme-code-foreground, var(--jp-content-font-color1, black)));\n  --sklearn-color-icon: #696969;\n\n  @media (prefers-color-scheme: dark) {\n    /* Redefinition of color scheme for dark theme */\n    --sklearn-color-text-on-default-background: var(--sg-text-color, var(--theme-code-foreground, var(--jp-content-font-color1, white)));\n    --sklearn-color-background: var(--sg-background-color, var(--theme-background, var(--jp-layout-color0, #111)));\n    --sklearn-color-border-box: var(--sg-text-color, var(--theme-code-foreground, var(--jp-content-font-color1, white)));\n    --sklearn-color-icon: #878787;\n  }\n}\n\n#sk-container-id-12 {\n  color: var(--sklearn-color-text);\n}\n\n#sk-container-id-12 pre {\n  padding: 0;\n}\n\n#sk-container-id-12 input.sk-hidden--visually {\n  border: 0;\n  clip: rect(1px 1px 1px 1px);\n  clip: rect(1px, 1px, 1px, 1px);\n  height: 1px;\n  margin: -1px;\n  overflow: hidden;\n  padding: 0;\n  position: absolute;\n  width: 1px;\n}\n\n#sk-container-id-12 div.sk-dashed-wrapped {\n  border: 1px dashed var(--sklearn-color-line);\n  margin: 0 0.4em 0.5em 0.4em;\n  box-sizing: border-box;\n  padding-bottom: 0.4em;\n  background-color: var(--sklearn-color-background);\n}\n\n#sk-container-id-12 div.sk-container {\n  /* jupyter's `normalize.less` sets `[hidden] { display: none; }`\n     but bootstrap.min.css set `[hidden] { display: none !important; }`\n     so we also need the `!important` here to be able to override the\n     default hidden behavior on the sphinx rendered scikit-learn.org.\n     See: https://github.com/scikit-learn/scikit-learn/issues/21755 */\n  display: inline-block !important;\n  position: relative;\n}\n\n#sk-container-id-12 div.sk-text-repr-fallback {\n  display: none;\n}\n\ndiv.sk-parallel-item,\ndiv.sk-serial,\ndiv.sk-item {\n  /* draw centered vertical line to link estimators */\n  background-image: linear-gradient(var(--sklearn-color-text-on-default-background), var(--sklearn-color-text-on-default-background));\n  background-size: 2px 100%;\n  background-repeat: no-repeat;\n  background-position: center center;\n}\n\n/* Parallel-specific style estimator block */\n\n#sk-container-id-12 div.sk-parallel-item::after {\n  content: \"\";\n  width: 100%;\n  border-bottom: 2px solid var(--sklearn-color-text-on-default-background);\n  flex-grow: 1;\n}\n\n#sk-container-id-12 div.sk-parallel {\n  display: flex;\n  align-items: stretch;\n  justify-content: center;\n  background-color: var(--sklearn-color-background);\n  position: relative;\n}\n\n#sk-container-id-12 div.sk-parallel-item {\n  display: flex;\n  flex-direction: column;\n}\n\n#sk-container-id-12 div.sk-parallel-item:first-child::after {\n  align-self: flex-end;\n  width: 50%;\n}\n\n#sk-container-id-12 div.sk-parallel-item:last-child::after {\n  align-self: flex-start;\n  width: 50%;\n}\n\n#sk-container-id-12 div.sk-parallel-item:only-child::after {\n  width: 0;\n}\n\n/* Serial-specific style estimator block */\n\n#sk-container-id-12 div.sk-serial {\n  display: flex;\n  flex-direction: column;\n  align-items: center;\n  background-color: var(--sklearn-color-background);\n  padding-right: 1em;\n  padding-left: 1em;\n}\n\n\n/* Toggleable style: style used for estimator/Pipeline/ColumnTransformer box that is\nclickable and can be expanded/collapsed.\n- Pipeline and ColumnTransformer use this feature and define the default style\n- Estimators will overwrite some part of the style using the `sk-estimator` class\n*/\n\n/* Pipeline and ColumnTransformer style (default) */\n\n#sk-container-id-12 div.sk-toggleable {\n  /* Default theme specific background. It is overwritten whether we have a\n  specific estimator or a Pipeline/ColumnTransformer */\n  background-color: var(--sklearn-color-background);\n}\n\n/* Toggleable label */\n#sk-container-id-12 label.sk-toggleable__label {\n  cursor: pointer;\n  display: block;\n  width: 100%;\n  margin-bottom: 0;\n  padding: 0.5em;\n  box-sizing: border-box;\n  text-align: center;\n}\n\n#sk-container-id-12 label.sk-toggleable__label-arrow:before {\n  /* Arrow on the left of the label */\n  content: \"▸\";\n  float: left;\n  margin-right: 0.25em;\n  color: var(--sklearn-color-icon);\n}\n\n#sk-container-id-12 label.sk-toggleable__label-arrow:hover:before {\n  color: var(--sklearn-color-text);\n}\n\n/* Toggleable content - dropdown */\n\n#sk-container-id-12 div.sk-toggleable__content {\n  max-height: 0;\n  max-width: 0;\n  overflow: hidden;\n  text-align: left;\n  /* unfitted */\n  background-color: var(--sklearn-color-unfitted-level-0);\n}\n\n#sk-container-id-12 div.sk-toggleable__content.fitted {\n  /* fitted */\n  background-color: var(--sklearn-color-fitted-level-0);\n}\n\n#sk-container-id-12 div.sk-toggleable__content pre {\n  margin: 0.2em;\n  border-radius: 0.25em;\n  color: var(--sklearn-color-text);\n  /* unfitted */\n  background-color: var(--sklearn-color-unfitted-level-0);\n}\n\n#sk-container-id-12 div.sk-toggleable__content.fitted pre {\n  /* unfitted */\n  background-color: var(--sklearn-color-fitted-level-0);\n}\n\n#sk-container-id-12 input.sk-toggleable__control:checked~div.sk-toggleable__content {\n  /* Expand drop-down */\n  max-height: 200px;\n  max-width: 100%;\n  overflow: auto;\n}\n\n#sk-container-id-12 input.sk-toggleable__control:checked~label.sk-toggleable__label-arrow:before {\n  content: \"▾\";\n}\n\n/* Pipeline/ColumnTransformer-specific style */\n\n#sk-container-id-12 div.sk-label input.sk-toggleable__control:checked~label.sk-toggleable__label {\n  color: var(--sklearn-color-text);\n  background-color: var(--sklearn-color-unfitted-level-2);\n}\n\n#sk-container-id-12 div.sk-label.fitted input.sk-toggleable__control:checked~label.sk-toggleable__label {\n  background-color: var(--sklearn-color-fitted-level-2);\n}\n\n/* Estimator-specific style */\n\n/* Colorize estimator box */\n#sk-container-id-12 div.sk-estimator input.sk-toggleable__control:checked~label.sk-toggleable__label {\n  /* unfitted */\n  background-color: var(--sklearn-color-unfitted-level-2);\n}\n\n#sk-container-id-12 div.sk-estimator.fitted input.sk-toggleable__control:checked~label.sk-toggleable__label {\n  /* fitted */\n  background-color: var(--sklearn-color-fitted-level-2);\n}\n\n#sk-container-id-12 div.sk-label label.sk-toggleable__label,\n#sk-container-id-12 div.sk-label label {\n  /* The background is the default theme color */\n  color: var(--sklearn-color-text-on-default-background);\n}\n\n/* On hover, darken the color of the background */\n#sk-container-id-12 div.sk-label:hover label.sk-toggleable__label {\n  color: var(--sklearn-color-text);\n  background-color: var(--sklearn-color-unfitted-level-2);\n}\n\n/* Label box, darken color on hover, fitted */\n#sk-container-id-12 div.sk-label.fitted:hover label.sk-toggleable__label.fitted {\n  color: var(--sklearn-color-text);\n  background-color: var(--sklearn-color-fitted-level-2);\n}\n\n/* Estimator label */\n\n#sk-container-id-12 div.sk-label label {\n  font-family: monospace;\n  font-weight: bold;\n  display: inline-block;\n  line-height: 1.2em;\n}\n\n#sk-container-id-12 div.sk-label-container {\n  text-align: center;\n}\n\n/* Estimator-specific */\n#sk-container-id-12 div.sk-estimator {\n  font-family: monospace;\n  border: 1px dotted var(--sklearn-color-border-box);\n  border-radius: 0.25em;\n  box-sizing: border-box;\n  margin-bottom: 0.5em;\n  /* unfitted */\n  background-color: var(--sklearn-color-unfitted-level-0);\n}\n\n#sk-container-id-12 div.sk-estimator.fitted {\n  /* fitted */\n  background-color: var(--sklearn-color-fitted-level-0);\n}\n\n/* on hover */\n#sk-container-id-12 div.sk-estimator:hover {\n  /* unfitted */\n  background-color: var(--sklearn-color-unfitted-level-2);\n}\n\n#sk-container-id-12 div.sk-estimator.fitted:hover {\n  /* fitted */\n  background-color: var(--sklearn-color-fitted-level-2);\n}\n\n/* Specification for estimator info (e.g. \"i\" and \"?\") */\n\n/* Common style for \"i\" and \"?\" */\n\n.sk-estimator-doc-link,\na:link.sk-estimator-doc-link,\na:visited.sk-estimator-doc-link {\n  float: right;\n  font-size: smaller;\n  line-height: 1em;\n  font-family: monospace;\n  background-color: var(--sklearn-color-background);\n  border-radius: 1em;\n  height: 1em;\n  width: 1em;\n  text-decoration: none !important;\n  margin-left: 1ex;\n  /* unfitted */\n  border: var(--sklearn-color-unfitted-level-1) 1pt solid;\n  color: var(--sklearn-color-unfitted-level-1);\n}\n\n.sk-estimator-doc-link.fitted,\na:link.sk-estimator-doc-link.fitted,\na:visited.sk-estimator-doc-link.fitted {\n  /* fitted */\n  border: var(--sklearn-color-fitted-level-1) 1pt solid;\n  color: var(--sklearn-color-fitted-level-1);\n}\n\n/* On hover */\ndiv.sk-estimator:hover .sk-estimator-doc-link:hover,\n.sk-estimator-doc-link:hover,\ndiv.sk-label-container:hover .sk-estimator-doc-link:hover,\n.sk-estimator-doc-link:hover {\n  /* unfitted */\n  background-color: var(--sklearn-color-unfitted-level-3);\n  color: var(--sklearn-color-background);\n  text-decoration: none;\n}\n\ndiv.sk-estimator.fitted:hover .sk-estimator-doc-link.fitted:hover,\n.sk-estimator-doc-link.fitted:hover,\ndiv.sk-label-container:hover .sk-estimator-doc-link.fitted:hover,\n.sk-estimator-doc-link.fitted:hover {\n  /* fitted */\n  background-color: var(--sklearn-color-fitted-level-3);\n  color: var(--sklearn-color-background);\n  text-decoration: none;\n}\n\n/* Span, style for the box shown on hovering the info icon */\n.sk-estimator-doc-link span {\n  display: none;\n  z-index: 9999;\n  position: relative;\n  font-weight: normal;\n  right: .2ex;\n  padding: .5ex;\n  margin: .5ex;\n  width: min-content;\n  min-width: 20ex;\n  max-width: 50ex;\n  color: var(--sklearn-color-text);\n  box-shadow: 2pt 2pt 4pt #999;\n  /* unfitted */\n  background: var(--sklearn-color-unfitted-level-0);\n  border: .5pt solid var(--sklearn-color-unfitted-level-3);\n}\n\n.sk-estimator-doc-link.fitted span {\n  /* fitted */\n  background: var(--sklearn-color-fitted-level-0);\n  border: var(--sklearn-color-fitted-level-3);\n}\n\n.sk-estimator-doc-link:hover span {\n  display: block;\n}\n\n/* \"?\"-specific style due to the `<a>` HTML tag */\n\n#sk-container-id-12 a.estimator_doc_link {\n  float: right;\n  font-size: 1rem;\n  line-height: 1em;\n  font-family: monospace;\n  background-color: var(--sklearn-color-background);\n  border-radius: 1rem;\n  height: 1rem;\n  width: 1rem;\n  text-decoration: none;\n  /* unfitted */\n  color: var(--sklearn-color-unfitted-level-1);\n  border: var(--sklearn-color-unfitted-level-1) 1pt solid;\n}\n\n#sk-container-id-12 a.estimator_doc_link.fitted {\n  /* fitted */\n  border: var(--sklearn-color-fitted-level-1) 1pt solid;\n  color: var(--sklearn-color-fitted-level-1);\n}\n\n/* On hover */\n#sk-container-id-12 a.estimator_doc_link:hover {\n  /* unfitted */\n  background-color: var(--sklearn-color-unfitted-level-3);\n  color: var(--sklearn-color-background);\n  text-decoration: none;\n}\n\n#sk-container-id-12 a.estimator_doc_link.fitted:hover {\n  /* fitted */\n  background-color: var(--sklearn-color-fitted-level-3);\n}\n</style><div id=\"sk-container-id-12\" class=\"sk-top-container\"><div class=\"sk-text-repr-fallback\"><pre>My_Model(logit_params={&#x27;C&#x27;: 0.18126298865195695, &#x27;penalty&#x27;: &#x27;l1&#x27;,\n                       &#x27;solver&#x27;: &#x27;liblinear&#x27;},\n         w=0.9833484263607899,\n         xgb_params={&#x27;colsample_bytree&#x27;: 0.65, &#x27;eval_metric&#x27;: &#x27;auc&#x27;,\n                     &#x27;gamma&#x27;: 0.98, &#x27;learning_rate&#x27;: 0.03, &#x27;max_depth&#x27;: 12,\n                     &#x27;min_child_weight&#x27;: 3.0, &#x27;objective&#x27;: &#x27;binary:logistic&#x27;,\n                     &#x27;subsample&#x27;: 0.9})</pre><b>In a Jupyter environment, please rerun this cell to show the HTML representation or trust the notebook. <br />On GitHub, the HTML representation is unable to render, please try loading this page with nbviewer.org.</b></div><div class=\"sk-container\" hidden><div class=\"sk-item\"><div class=\"sk-estimator  sk-toggleable\"><input class=\"sk-toggleable__control sk-hidden--visually\" id=\"sk-estimator-id-22\" type=\"checkbox\" checked><label for=\"sk-estimator-id-22\" class=\"sk-toggleable__label  sk-toggleable__label-arrow \">&nbsp;My_Model<span class=\"sk-estimator-doc-link \">i<span>Not fitted</span></span></label><div class=\"sk-toggleable__content \"><pre>My_Model(logit_params={&#x27;C&#x27;: 0.18126298865195695, &#x27;penalty&#x27;: &#x27;l1&#x27;,\n                       &#x27;solver&#x27;: &#x27;liblinear&#x27;},\n         w=0.9833484263607899,\n         xgb_params={&#x27;colsample_bytree&#x27;: 0.65, &#x27;eval_metric&#x27;: &#x27;auc&#x27;,\n                     &#x27;gamma&#x27;: 0.98, &#x27;learning_rate&#x27;: 0.03, &#x27;max_depth&#x27;: 12,\n                     &#x27;min_child_weight&#x27;: 3.0, &#x27;objective&#x27;: &#x27;binary:logistic&#x27;,\n                     &#x27;subsample&#x27;: 0.9})</pre></div> </div></div></div></div>"
     },
     "execution_count": 156,
     "metadata": {},
     "output_type": "execute_result"
    }
   ],
   "source": [
    "mm.fit(train_new, y)"
   ],
   "metadata": {
    "collapsed": false
   }
  },
  {
   "cell_type": "code",
   "execution_count": 157,
   "outputs": [],
   "source": [
    "my_model_test_pred = mm.predict(test_new)"
   ],
   "metadata": {
    "collapsed": false
   }
  },
  {
   "cell_type": "code",
   "execution_count": 158,
   "outputs": [],
   "source": [
    "pd.Series(my_model_test_pred, name=\"dep_delayed_15min\").to_csv(\n",
    "    \"mm_6.4.csv\", index_label=\"id\", header=True\n",
    ")"
   ],
   "metadata": {
    "collapsed": false
   }
  }
 ],
 "metadata": {
  "kernelspec": {
   "display_name": "Python 3",
   "language": "python",
   "name": "python3"
  },
  "language_info": {
   "codemirror_mode": {
    "name": "ipython",
    "version": 3
   },
   "file_extension": ".py",
   "mimetype": "text/x-python",
   "name": "python",
   "nbconvert_exporter": "python",
   "pygments_lexer": "ipython3",
   "version": "3.7.6"
  }
 },
 "nbformat": 4,
 "nbformat_minor": 2
}
